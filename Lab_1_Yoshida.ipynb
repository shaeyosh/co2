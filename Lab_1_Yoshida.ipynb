{
  "nbformat": 4,
  "nbformat_minor": 0,
  "metadata": {
    "colab": {
      "provenance": [],
      "include_colab_link": true
    },
    "kernelspec": {
      "name": "python3",
      "display_name": "Python 3"
    },
    "language_info": {
      "name": "python"
    }
  },
  "cells": [
    {
      "cell_type": "markdown",
      "metadata": {
        "id": "view-in-github",
        "colab_type": "text"
      },
      "source": [
        "<a href=\"https://colab.research.google.com/github/shaeyosh/co2emissions/blob/main/Lab_1_Yoshida.ipynb\" target=\"_parent\"><img src=\"https://colab.research.google.com/assets/colab-badge.svg\" alt=\"Open In Colab\"/></a>"
      ]
    },
    {
      "cell_type": "markdown",
      "source": [
        "## Introduction"
      ],
      "metadata": {
        "id": "hunL5ZHQQg3d"
      }
    },
    {
      "cell_type": "markdown",
      "source": [
        "The purpose of this lab is to analyze data regaurding CO2 emissions over the years for differing countries. I will be doing so by utilizing various python libraries and code to create graphs and formulate conclusions regaurding CO2 emission patterns."
      ],
      "metadata": {
        "id": "m40h643DQlC4"
      }
    },
    {
      "cell_type": "markdown",
      "source": [
        "## Imports"
      ],
      "metadata": {
        "id": "Av8gH1UmMgFv"
      }
    },
    {
      "cell_type": "markdown",
      "source": [
        "*   This code is used to import various libraries that can be used for the analysis of our CO₂ data as well as help with the formulation of different plots and graphs.\n",
        "\n"
      ],
      "metadata": {
        "id": "DfpOUiyS3654"
      }
    },
    {
      "cell_type": "code",
      "execution_count": 64,
      "metadata": {
        "id": "f9-cSwbcMJc7"
      },
      "outputs": [],
      "source": [
        "# Import pandas, numpy, and matplotlib\n",
        "import pandas as pd\n",
        "import numpy as np\n",
        "import matplotlib.pyplot as plt\n",
        "\n",
        "# seaborn is a data visualization library built on matplotlib\n",
        "import seaborn as sns \n",
        "\n",
        "# set the plotting style \n",
        "sns.set_style(\"whitegrid\")\n",
        "\n",
        "# Plot missing values\n",
        "import missingno as msno"
      ]
    },
    {
      "cell_type": "markdown",
      "source": [
        "## Lab introduction"
      ],
      "metadata": {
        "id": "3600arA2CaSv"
      }
    },
    {
      "cell_type": "markdown",
      "source": [
        "Use the greenhouse gas emission data set owid-co2-data.csv from Our World in Data to describe how the emission levels of the current top 10 CO2 emitters have changed over the last 50 years (1971 - 2020). \n",
        "\n"
      ],
      "metadata": {
        "id": "nuNtt1LwCj2t"
      }
    },
    {
      "cell_type": "markdown",
      "source": [
        "## Import and set up the data set"
      ],
      "metadata": {
        "id": "hrNAfmwpMj2L"
      }
    },
    {
      "cell_type": "markdown",
      "source": [
        "##### $\\rightarrow$ Use Pandas to load the file `owid-co2-data.csv` from https://github.com/owid/co2-data as a `DataFrame`. Name the `DataFrame` `df`."
      ],
      "metadata": {
        "id": "aQxUj8ChtEGr"
      }
    },
    {
      "cell_type": "markdown",
      "source": [
        "##### Solution"
      ],
      "metadata": {
        "id": "75igDlZQOqzQ"
      }
    },
    {
      "cell_type": "markdown",
      "source": [
        "* Here I have imported the data file I will be using throughout this notebook from github as a dataframe."
      ],
      "metadata": {
        "id": "x_hovJBg4Y_5"
      }
    },
    {
      "cell_type": "code",
      "source": [
        "df = pd.read_csv('https://raw.githubusercontent.com/shaeyosh/co2emissions/main/owid-co2-data.csv')"
      ],
      "metadata": {
        "id": "6VfU3QztFPS_"
      },
      "execution_count": 65,
      "outputs": []
    },
    {
      "cell_type": "markdown",
      "source": [
        "Consult the [codebook](https://github.com/owid/co2-data/blob/master/owid-co2-codebook.csv) to see the description of each column.\n",
        "\n"
      ],
      "metadata": {
        "id": "jZAaO4glOZC1"
      }
    },
    {
      "cell_type": "markdown",
      "source": [
        "##### $\\rightarrow$ Select the rows corresponding to individual countries "
      ],
      "metadata": {
        "id": "oQvGwApO35VP"
      }
    },
    {
      "cell_type": "markdown",
      "source": [
        "This code will allow me to create a new "
      ],
      "metadata": {
        "id": "Q8cQDKkYJald"
      }
    },
    {
      "cell_type": "markdown",
      "source": [
        "* Here I have created a new dataframe by selecting only the data that involves the country names from the original dataframe."
      ],
      "metadata": {
        "id": "xL56cb_L49mG"
      }
    },
    {
      "cell_type": "code",
      "source": [
        "df_country = df[['country']]"
      ],
      "metadata": {
        "id": "DiuCLk3NF9vX"
      },
      "execution_count": 66,
      "outputs": []
    },
    {
      "cell_type": "markdown",
      "source": [
        "The `country` column of the data set contains some values that are groups of countries. We will remove these observations from the data set."
      ],
      "metadata": {
        "id": "CoBCrqDQK8RF"
      }
    },
    {
      "cell_type": "markdown",
      "source": [
        "* Here I am creating a new dataframe labeled non_countries."
      ],
      "metadata": {
        "id": "mU8utmQMKIhh"
      }
    },
    {
      "cell_type": "code",
      "source": [
        "non_countries = ['Africa', 'Africa (GCP)', 'Asia', 'Asia (GCP)', 'Asia (excl. China and India)', 'Central America (GCP)',\n",
        "                  'EU-27', 'Europe', 'Europe (excl. EU-27)', 'European Union (27) (GCP)', 'Europe (GCP)',\n",
        "                  'Europe (excl. EU-28)', 'European Union (27)', \n",
        "                  'European Union (28)', 'French Equatorial Africa', \n",
        "                  'French Guiana', 'French Polynesia', 'French West Africa',\n",
        "                  'High-income countries', 'International transport', \n",
        "                  'Low-income countries', 'Lower-middle-income countries', 'Mayotte', 'Middle East (GCP)',\n",
        "                  'Non-OECD (GCP)',\n",
        "                  'North America',  'North America (excl. USA)', 'North America (GCP)',\n",
        "                  'Oceania (GCP)', 'OECD (GCP)', \n",
        "                  'Panama Canal Zone','South America', 'South America (GCP)', 'Upper-middle-income countries', \n",
        "                  'World']"
      ],
      "metadata": {
        "id": "eD0vOVGQkTHq"
      },
      "execution_count": 67,
      "outputs": []
    },
    {
      "cell_type": "markdown",
      "source": [
        "* This code will create a list which contains all the listed \"countries\" that we will not be considering."
      ],
      "metadata": {
        "id": "6NVqfNUG5lBB"
      }
    },
    {
      "cell_type": "markdown",
      "source": [
        "Remove the rows corresponding to the non-countries."
      ],
      "metadata": {
        "id": "8gJuF0O9LoPY"
      }
    },
    {
      "cell_type": "markdown",
      "source": [
        "* Using the isin function == False, we are able to remove the non_countries listed above from our dataframe "
      ],
      "metadata": {
        "id": "dwBTIQ4-LWrm"
      }
    },
    {
      "cell_type": "code",
      "source": [
        "df = df.loc[df['country'].isin(non_countries) == False]"
      ],
      "metadata": {
        "id": "nbmt0WKOesta"
      },
      "execution_count": 68,
      "outputs": []
    },
    {
      "cell_type": "markdown",
      "source": [
        "* this will make it so that the data listed under those countries won't affect our analysis."
      ],
      "metadata": {
        "id": "YRRE9kIC50Cx"
      }
    },
    {
      "cell_type": "markdown",
      "source": [
        "## Explore the data set"
      ],
      "metadata": {
        "id": "9_VL9S0ZL8eJ"
      }
    },
    {
      "cell_type": "markdown",
      "source": [
        "##### $\\rightarrow$ Display the head of the data frame"
      ],
      "metadata": {
        "id": "q6694yBOMD3F"
      }
    },
    {
      "cell_type": "markdown",
      "source": [
        "* We use .head() to display the head of the data frame."
      ],
      "metadata": {
        "id": "0L-G8E7e6JNK"
      }
    },
    {
      "cell_type": "code",
      "source": [
        "df.head()"
      ],
      "metadata": {
        "colab": {
          "base_uri": "https://localhost:8080/",
          "height": 300
        },
        "id": "xaGkKqTDmKso",
        "outputId": "80e502ce-47e8-4633-f5ad-72215c70a7e7"
      },
      "execution_count": 69,
      "outputs": [
        {
          "output_type": "execute_result",
          "data": {
            "text/plain": [
              "       country  year iso_code  population  gdp  cement_co2  \\\n",
              "0  Afghanistan  1850      AFG   3752993.0  NaN         NaN   \n",
              "1  Afghanistan  1851      AFG   3769828.0  NaN         NaN   \n",
              "2  Afghanistan  1852      AFG   3787706.0  NaN         NaN   \n",
              "3  Afghanistan  1853      AFG   3806634.0  NaN         NaN   \n",
              "4  Afghanistan  1854      AFG   3825655.0  NaN         NaN   \n",
              "\n",
              "   cement_co2_per_capita  co2  co2_growth_abs  co2_growth_prct  ...  \\\n",
              "0                    NaN  NaN             NaN              NaN  ...   \n",
              "1                    NaN  NaN             NaN              NaN  ...   \n",
              "2                    NaN  NaN             NaN              NaN  ...   \n",
              "3                    NaN  NaN             NaN              NaN  ...   \n",
              "4                    NaN  NaN             NaN              NaN  ...   \n",
              "\n",
              "   share_global_cumulative_other_co2  share_global_flaring_co2  \\\n",
              "0                                NaN                       NaN   \n",
              "1                                NaN                       NaN   \n",
              "2                                NaN                       NaN   \n",
              "3                                NaN                       NaN   \n",
              "4                                NaN                       NaN   \n",
              "\n",
              "   share_global_gas_co2  share_global_luc_co2  share_global_oil_co2  \\\n",
              "0                   NaN                 0.121                   NaN   \n",
              "1                   NaN                 0.118                   NaN   \n",
              "2                   NaN                 0.116                   NaN   \n",
              "3                   NaN                 0.115                   NaN   \n",
              "4                   NaN                 0.114                   NaN   \n",
              "\n",
              "   share_global_other_co2  total_ghg  total_ghg_excluding_lucf  trade_co2  \\\n",
              "0                     NaN        NaN                       NaN        NaN   \n",
              "1                     NaN        NaN                       NaN        NaN   \n",
              "2                     NaN        NaN                       NaN        NaN   \n",
              "3                     NaN        NaN                       NaN        NaN   \n",
              "4                     NaN        NaN                       NaN        NaN   \n",
              "\n",
              "   trade_co2_share  \n",
              "0              NaN  \n",
              "1              NaN  \n",
              "2              NaN  \n",
              "3              NaN  \n",
              "4              NaN  \n",
              "\n",
              "[5 rows x 74 columns]"
            ],
            "text/html": [
              "\n",
              "  <div id=\"df-f46e3dff-185b-489f-8646-cafbf24e9871\">\n",
              "    <div class=\"colab-df-container\">\n",
              "      <div>\n",
              "<style scoped>\n",
              "    .dataframe tbody tr th:only-of-type {\n",
              "        vertical-align: middle;\n",
              "    }\n",
              "\n",
              "    .dataframe tbody tr th {\n",
              "        vertical-align: top;\n",
              "    }\n",
              "\n",
              "    .dataframe thead th {\n",
              "        text-align: right;\n",
              "    }\n",
              "</style>\n",
              "<table border=\"1\" class=\"dataframe\">\n",
              "  <thead>\n",
              "    <tr style=\"text-align: right;\">\n",
              "      <th></th>\n",
              "      <th>country</th>\n",
              "      <th>year</th>\n",
              "      <th>iso_code</th>\n",
              "      <th>population</th>\n",
              "      <th>gdp</th>\n",
              "      <th>cement_co2</th>\n",
              "      <th>cement_co2_per_capita</th>\n",
              "      <th>co2</th>\n",
              "      <th>co2_growth_abs</th>\n",
              "      <th>co2_growth_prct</th>\n",
              "      <th>...</th>\n",
              "      <th>share_global_cumulative_other_co2</th>\n",
              "      <th>share_global_flaring_co2</th>\n",
              "      <th>share_global_gas_co2</th>\n",
              "      <th>share_global_luc_co2</th>\n",
              "      <th>share_global_oil_co2</th>\n",
              "      <th>share_global_other_co2</th>\n",
              "      <th>total_ghg</th>\n",
              "      <th>total_ghg_excluding_lucf</th>\n",
              "      <th>trade_co2</th>\n",
              "      <th>trade_co2_share</th>\n",
              "    </tr>\n",
              "  </thead>\n",
              "  <tbody>\n",
              "    <tr>\n",
              "      <th>0</th>\n",
              "      <td>Afghanistan</td>\n",
              "      <td>1850</td>\n",
              "      <td>AFG</td>\n",
              "      <td>3752993.0</td>\n",
              "      <td>NaN</td>\n",
              "      <td>NaN</td>\n",
              "      <td>NaN</td>\n",
              "      <td>NaN</td>\n",
              "      <td>NaN</td>\n",
              "      <td>NaN</td>\n",
              "      <td>...</td>\n",
              "      <td>NaN</td>\n",
              "      <td>NaN</td>\n",
              "      <td>NaN</td>\n",
              "      <td>0.121</td>\n",
              "      <td>NaN</td>\n",
              "      <td>NaN</td>\n",
              "      <td>NaN</td>\n",
              "      <td>NaN</td>\n",
              "      <td>NaN</td>\n",
              "      <td>NaN</td>\n",
              "    </tr>\n",
              "    <tr>\n",
              "      <th>1</th>\n",
              "      <td>Afghanistan</td>\n",
              "      <td>1851</td>\n",
              "      <td>AFG</td>\n",
              "      <td>3769828.0</td>\n",
              "      <td>NaN</td>\n",
              "      <td>NaN</td>\n",
              "      <td>NaN</td>\n",
              "      <td>NaN</td>\n",
              "      <td>NaN</td>\n",
              "      <td>NaN</td>\n",
              "      <td>...</td>\n",
              "      <td>NaN</td>\n",
              "      <td>NaN</td>\n",
              "      <td>NaN</td>\n",
              "      <td>0.118</td>\n",
              "      <td>NaN</td>\n",
              "      <td>NaN</td>\n",
              "      <td>NaN</td>\n",
              "      <td>NaN</td>\n",
              "      <td>NaN</td>\n",
              "      <td>NaN</td>\n",
              "    </tr>\n",
              "    <tr>\n",
              "      <th>2</th>\n",
              "      <td>Afghanistan</td>\n",
              "      <td>1852</td>\n",
              "      <td>AFG</td>\n",
              "      <td>3787706.0</td>\n",
              "      <td>NaN</td>\n",
              "      <td>NaN</td>\n",
              "      <td>NaN</td>\n",
              "      <td>NaN</td>\n",
              "      <td>NaN</td>\n",
              "      <td>NaN</td>\n",
              "      <td>...</td>\n",
              "      <td>NaN</td>\n",
              "      <td>NaN</td>\n",
              "      <td>NaN</td>\n",
              "      <td>0.116</td>\n",
              "      <td>NaN</td>\n",
              "      <td>NaN</td>\n",
              "      <td>NaN</td>\n",
              "      <td>NaN</td>\n",
              "      <td>NaN</td>\n",
              "      <td>NaN</td>\n",
              "    </tr>\n",
              "    <tr>\n",
              "      <th>3</th>\n",
              "      <td>Afghanistan</td>\n",
              "      <td>1853</td>\n",
              "      <td>AFG</td>\n",
              "      <td>3806634.0</td>\n",
              "      <td>NaN</td>\n",
              "      <td>NaN</td>\n",
              "      <td>NaN</td>\n",
              "      <td>NaN</td>\n",
              "      <td>NaN</td>\n",
              "      <td>NaN</td>\n",
              "      <td>...</td>\n",
              "      <td>NaN</td>\n",
              "      <td>NaN</td>\n",
              "      <td>NaN</td>\n",
              "      <td>0.115</td>\n",
              "      <td>NaN</td>\n",
              "      <td>NaN</td>\n",
              "      <td>NaN</td>\n",
              "      <td>NaN</td>\n",
              "      <td>NaN</td>\n",
              "      <td>NaN</td>\n",
              "    </tr>\n",
              "    <tr>\n",
              "      <th>4</th>\n",
              "      <td>Afghanistan</td>\n",
              "      <td>1854</td>\n",
              "      <td>AFG</td>\n",
              "      <td>3825655.0</td>\n",
              "      <td>NaN</td>\n",
              "      <td>NaN</td>\n",
              "      <td>NaN</td>\n",
              "      <td>NaN</td>\n",
              "      <td>NaN</td>\n",
              "      <td>NaN</td>\n",
              "      <td>...</td>\n",
              "      <td>NaN</td>\n",
              "      <td>NaN</td>\n",
              "      <td>NaN</td>\n",
              "      <td>0.114</td>\n",
              "      <td>NaN</td>\n",
              "      <td>NaN</td>\n",
              "      <td>NaN</td>\n",
              "      <td>NaN</td>\n",
              "      <td>NaN</td>\n",
              "      <td>NaN</td>\n",
              "    </tr>\n",
              "  </tbody>\n",
              "</table>\n",
              "<p>5 rows × 74 columns</p>\n",
              "</div>\n",
              "      <button class=\"colab-df-convert\" onclick=\"convertToInteractive('df-f46e3dff-185b-489f-8646-cafbf24e9871')\"\n",
              "              title=\"Convert this dataframe to an interactive table.\"\n",
              "              style=\"display:none;\">\n",
              "        \n",
              "  <svg xmlns=\"http://www.w3.org/2000/svg\" height=\"24px\"viewBox=\"0 0 24 24\"\n",
              "       width=\"24px\">\n",
              "    <path d=\"M0 0h24v24H0V0z\" fill=\"none\"/>\n",
              "    <path d=\"M18.56 5.44l.94 2.06.94-2.06 2.06-.94-2.06-.94-.94-2.06-.94 2.06-2.06.94zm-11 1L8.5 8.5l.94-2.06 2.06-.94-2.06-.94L8.5 2.5l-.94 2.06-2.06.94zm10 10l.94 2.06.94-2.06 2.06-.94-2.06-.94-.94-2.06-.94 2.06-2.06.94z\"/><path d=\"M17.41 7.96l-1.37-1.37c-.4-.4-.92-.59-1.43-.59-.52 0-1.04.2-1.43.59L10.3 9.45l-7.72 7.72c-.78.78-.78 2.05 0 2.83L4 21.41c.39.39.9.59 1.41.59.51 0 1.02-.2 1.41-.59l7.78-7.78 2.81-2.81c.8-.78.8-2.07 0-2.86zM5.41 20L4 18.59l7.72-7.72 1.47 1.35L5.41 20z\"/>\n",
              "  </svg>\n",
              "      </button>\n",
              "      \n",
              "  <style>\n",
              "    .colab-df-container {\n",
              "      display:flex;\n",
              "      flex-wrap:wrap;\n",
              "      gap: 12px;\n",
              "    }\n",
              "\n",
              "    .colab-df-convert {\n",
              "      background-color: #E8F0FE;\n",
              "      border: none;\n",
              "      border-radius: 50%;\n",
              "      cursor: pointer;\n",
              "      display: none;\n",
              "      fill: #1967D2;\n",
              "      height: 32px;\n",
              "      padding: 0 0 0 0;\n",
              "      width: 32px;\n",
              "    }\n",
              "\n",
              "    .colab-df-convert:hover {\n",
              "      background-color: #E2EBFA;\n",
              "      box-shadow: 0px 1px 2px rgba(60, 64, 67, 0.3), 0px 1px 3px 1px rgba(60, 64, 67, 0.15);\n",
              "      fill: #174EA6;\n",
              "    }\n",
              "\n",
              "    [theme=dark] .colab-df-convert {\n",
              "      background-color: #3B4455;\n",
              "      fill: #D2E3FC;\n",
              "    }\n",
              "\n",
              "    [theme=dark] .colab-df-convert:hover {\n",
              "      background-color: #434B5C;\n",
              "      box-shadow: 0px 1px 3px 1px rgba(0, 0, 0, 0.15);\n",
              "      filter: drop-shadow(0px 1px 2px rgba(0, 0, 0, 0.3));\n",
              "      fill: #FFFFFF;\n",
              "    }\n",
              "  </style>\n",
              "\n",
              "      <script>\n",
              "        const buttonEl =\n",
              "          document.querySelector('#df-f46e3dff-185b-489f-8646-cafbf24e9871 button.colab-df-convert');\n",
              "        buttonEl.style.display =\n",
              "          google.colab.kernel.accessAllowed ? 'block' : 'none';\n",
              "\n",
              "        async function convertToInteractive(key) {\n",
              "          const element = document.querySelector('#df-f46e3dff-185b-489f-8646-cafbf24e9871');\n",
              "          const dataTable =\n",
              "            await google.colab.kernel.invokeFunction('convertToInteractive',\n",
              "                                                     [key], {});\n",
              "          if (!dataTable) return;\n",
              "\n",
              "          const docLinkHtml = 'Like what you see? Visit the ' +\n",
              "            '<a target=\"_blank\" href=https://colab.research.google.com/notebooks/data_table.ipynb>data table notebook</a>'\n",
              "            + ' to learn more about interactive tables.';\n",
              "          element.innerHTML = '';\n",
              "          dataTable['output_type'] = 'display_data';\n",
              "          await google.colab.output.renderOutput(dataTable, element);\n",
              "          const docLink = document.createElement('div');\n",
              "          docLink.innerHTML = docLinkHtml;\n",
              "          element.appendChild(docLink);\n",
              "        }\n",
              "      </script>\n",
              "    </div>\n",
              "  </div>\n",
              "  "
            ]
          },
          "metadata": {},
          "execution_count": 69
        }
      ]
    },
    {
      "cell_type": "markdown",
      "source": [
        "##### Solution"
      ],
      "metadata": {
        "id": "QwTFcX-IOpH9"
      }
    },
    {
      "cell_type": "markdown",
      "source": [
        "##### $\\rightarrow$ Use the `info` method further explore the data.\n",
        "1.  Are there any columns where the data type is obviously incorrect? For example, is there a variable that should be a number, but is coded as a string?\n",
        "2.  Do any of the columns have missing (null) values?"
      ],
      "metadata": {
        "id": "1HQFuZbmNCfO"
      }
    },
    {
      "cell_type": "markdown",
      "source": [
        "1. According to the Dtype section on the info display, all of the data types seem reasonable for their corresponding categories.   \n",
        "2. After using the info method I have found that there are a lot of NaN values which can be determined by taking note that the number of non-null entries in certain collumns are a lot less than the total number of entries in the data set. Additionally through the isna function we are able to calculate how many null values there are across every variable."
      ],
      "metadata": {
        "id": "4T6KoKM2oI-X"
      }
    },
    {
      "cell_type": "markdown",
      "source": [
        "* Using the .info() method we are able to figure out the data type and count of non-null entries across the dataframe."
      ],
      "metadata": {
        "id": "FPFqzrwf6U5G"
      }
    },
    {
      "cell_type": "code",
      "source": [
        "df.info()"
      ],
      "metadata": {
        "colab": {
          "base_uri": "https://localhost:8080/"
        },
        "id": "CZInO9nFnlw9",
        "outputId": "dd91b923-5e33-478c-8489-f4d7b62caa4e"
      },
      "execution_count": 70,
      "outputs": [
        {
          "output_type": "stream",
          "name": "stdout",
          "text": [
            "<class 'pandas.core.frame.DataFrame'>\n",
            "Int64Index: 39638 entries, 0 to 46522\n",
            "Data columns (total 74 columns):\n",
            " #   Column                                     Non-Null Count  Dtype  \n",
            "---  ------                                     --------------  -----  \n",
            " 0   country                                    39638 non-null  object \n",
            " 1   year                                       39638 non-null  int64  \n",
            " 2   iso_code                                   39251 non-null  object \n",
            " 3   population                                 36053 non-null  float64\n",
            " 4   gdp                                        14535 non-null  float64\n",
            " 5   cement_co2                                 20333 non-null  float64\n",
            " 6   cement_co2_per_capita                      19018 non-null  float64\n",
            " 7   co2                                        24464 non-null  float64\n",
            " 8   co2_growth_abs                             23971 non-null  float64\n",
            " 9   co2_growth_prct                            21484 non-null  float64\n",
            " 10  co2_including_luc                          21122 non-null  float64\n",
            " 11  co2_including_luc_growth_abs               20839 non-null  float64\n",
            " 12  co2_including_luc_growth_prct              21191 non-null  float64\n",
            " 13  co2_including_luc_per_capita               20780 non-null  float64\n",
            " 14  co2_including_luc_per_gdp                  13384 non-null  float64\n",
            " 15  co2_including_luc_per_unit_energy          8593 non-null   float64\n",
            " 16  co2_per_capita                             23037 non-null  float64\n",
            " 17  co2_per_gdp                                13644 non-null  float64\n",
            " 18  co2_per_unit_energy                        9079 non-null   float64\n",
            " 19  coal_co2                                   21573 non-null  float64\n",
            " 20  coal_co2_per_capita                        21186 non-null  float64\n",
            " 21  consumption_co2                            3730 non-null   float64\n",
            " 22  consumption_co2_per_capita                 3730 non-null   float64\n",
            " 23  consumption_co2_per_gdp                    3457 non-null   float64\n",
            " 24  cumulative_cement_co2                      20232 non-null  float64\n",
            " 25  cumulative_co2                             24363 non-null  float64\n",
            " 26  cumulative_co2_including_luc               21122 non-null  float64\n",
            " 27  cumulative_coal_co2                        21472 non-null  float64\n",
            " 28  cumulative_flaring_co2                     21478 non-null  float64\n",
            " 29  cumulative_gas_co2                         21478 non-null  float64\n",
            " 30  cumulative_luc_co2                         36292 non-null  float64\n",
            " 31  cumulative_oil_co2                         21478 non-null  float64\n",
            " 32  cumulative_other_co2                       1620 non-null   float64\n",
            " 33  energy_per_capita                          9354 non-null   float64\n",
            " 34  energy_per_gdp                             7151 non-null   float64\n",
            " 35  flaring_co2                                21579 non-null  float64\n",
            " 36  flaring_co2_per_capita                     21192 non-null  float64\n",
            " 37  gas_co2                                    21579 non-null  float64\n",
            " 38  gas_co2_per_capita                         21192 non-null  float64\n",
            " 39  ghg_excluding_lucf_per_capita              5819 non-null   float64\n",
            " 40  ghg_per_capita                             5819 non-null   float64\n",
            " 41  land_use_change_co2                        36292 non-null  float64\n",
            " 42  land_use_change_co2_per_capita             33110 non-null  float64\n",
            " 43  methane                                    5820 non-null   float64\n",
            " 44  methane_per_capita                         5820 non-null   float64\n",
            " 45  nitrous_oxide                              5820 non-null   float64\n",
            " 46  nitrous_oxide_per_capita                   5820 non-null   float64\n",
            " 47  oil_co2                                    21579 non-null  float64\n",
            " 48  oil_co2_per_capita                         21192 non-null  float64\n",
            " 49  other_co2_per_capita                       1620 non-null   float64\n",
            " 50  other_industry_co2                         1620 non-null   float64\n",
            " 51  primary_energy_consumption                 9395 non-null   float64\n",
            " 52  share_global_cement_co2                    18207 non-null  float64\n",
            " 53  share_global_co2                           24363 non-null  float64\n",
            " 54  share_global_co2_including_luc             21122 non-null  float64\n",
            " 55  share_global_coal_co2                      21472 non-null  float64\n",
            " 56  share_global_cumulative_cement_co2         18207 non-null  float64\n",
            " 57  share_global_cumulative_co2                24363 non-null  float64\n",
            " 58  share_global_cumulative_co2_including_luc  21122 non-null  float64\n",
            " 59  share_global_cumulative_coal_co2           21472 non-null  float64\n",
            " 60  share_global_cumulative_flaring_co2        14657 non-null  float64\n",
            " 61  share_global_cumulative_gas_co2            19610 non-null  float64\n",
            " 62  share_global_cumulative_luc_co2            36292 non-null  float64\n",
            " 63  share_global_cumulative_oil_co2            20626 non-null  float64\n",
            " 64  share_global_cumulative_other_co2          1620 non-null   float64\n",
            " 65  share_global_flaring_co2                   14657 non-null  float64\n",
            " 66  share_global_gas_co2                       19610 non-null  float64\n",
            " 67  share_global_luc_co2                       36292 non-null  float64\n",
            " 68  share_global_oil_co2                       20626 non-null  float64\n",
            " 69  share_global_other_co2                     1620 non-null   float64\n",
            " 70  total_ghg                                  5819 non-null   float64\n",
            " 71  total_ghg_excluding_lucf                   5819 non-null   float64\n",
            " 72  trade_co2                                  3730 non-null   float64\n",
            " 73  trade_co2_share                            3729 non-null   float64\n",
            "dtypes: float64(71), int64(1), object(2)\n",
            "memory usage: 22.7+ MB\n"
          ]
        }
      ]
    },
    {
      "cell_type": "markdown",
      "source": [
        "* We can then see how many entries are non-null from the table."
      ],
      "metadata": {
        "id": "M0lIYBpBLfcV"
      }
    },
    {
      "cell_type": "markdown",
      "source": [
        "##### Solution"
      ],
      "metadata": {
        "id": "Kt-vodi7OoKB"
      }
    },
    {
      "cell_type": "markdown",
      "source": [
        "##### $\\rightarrow$ What years are present in the data set?"
      ],
      "metadata": {
        "id": "f89ETnavWcPa"
      }
    },
    {
      "cell_type": "markdown",
      "source": [
        "##### Solution"
      ],
      "metadata": {
        "id": "yUQLOAJrXGNk"
      }
    },
    {
      "cell_type": "markdown",
      "source": [
        "* Using the .unique() function we are able to obtain a list of unique data entries "
      ],
      "metadata": {
        "id": "-H1EbK6SLwHQ"
      }
    },
    {
      "cell_type": "code",
      "source": [
        "df['year'].unique()"
      ],
      "metadata": {
        "colab": {
          "base_uri": "https://localhost:8080/"
        },
        "id": "bx105Wa5PlPH",
        "outputId": "a2b42b47-4d7c-418c-892c-b2b92e086cf6"
      },
      "execution_count": 71,
      "outputs": [
        {
          "output_type": "execute_result",
          "data": {
            "text/plain": [
              "array([1850, 1851, 1852, 1853, 1854, 1855, 1856, 1857, 1858, 1859, 1860,\n",
              "       1861, 1862, 1863, 1864, 1865, 1866, 1867, 1868, 1869, 1870, 1871,\n",
              "       1872, 1873, 1874, 1875, 1876, 1877, 1878, 1879, 1880, 1881, 1882,\n",
              "       1883, 1884, 1885, 1886, 1887, 1888, 1889, 1890, 1891, 1892, 1893,\n",
              "       1894, 1895, 1896, 1897, 1898, 1899, 1900, 1901, 1902, 1903, 1904,\n",
              "       1905, 1906, 1907, 1908, 1909, 1910, 1911, 1912, 1913, 1914, 1915,\n",
              "       1916, 1917, 1918, 1919, 1920, 1921, 1922, 1923, 1924, 1925, 1926,\n",
              "       1927, 1928, 1929, 1930, 1931, 1932, 1933, 1934, 1935, 1936, 1937,\n",
              "       1938, 1939, 1940, 1941, 1942, 1943, 1944, 1945, 1946, 1947, 1948,\n",
              "       1949, 1950, 1951, 1952, 1953, 1954, 1955, 1956, 1957, 1958, 1959,\n",
              "       1960, 1961, 1962, 1963, 1964, 1965, 1966, 1967, 1968, 1969, 1970,\n",
              "       1971, 1972, 1973, 1974, 1975, 1976, 1977, 1978, 1979, 1980, 1981,\n",
              "       1982, 1983, 1984, 1985, 1986, 1987, 1988, 1989, 1990, 1991, 1992,\n",
              "       1993, 1994, 1995, 1996, 1997, 1998, 1999, 2000, 2001, 2002, 2003,\n",
              "       2004, 2005, 2006, 2007, 2008, 2009, 2010, 2011, 2012, 2013, 2014,\n",
              "       2015, 2016, 2017, 2018, 2019, 2020, 2021, 1750, 1751, 1752, 1753,\n",
              "       1754, 1755, 1756, 1757, 1758, 1759, 1760, 1761, 1762, 1763, 1764,\n",
              "       1765, 1766, 1767, 1768, 1769, 1770, 1771, 1772, 1773, 1774, 1775,\n",
              "       1776, 1777, 1778, 1779, 1780, 1781, 1782, 1783, 1784, 1785, 1786,\n",
              "       1787, 1788, 1789, 1790, 1791, 1792, 1793, 1794, 1795, 1796, 1797,\n",
              "       1798, 1799, 1800, 1801, 1802, 1803, 1804, 1805, 1806, 1807, 1808,\n",
              "       1809, 1810, 1811, 1812, 1813, 1814, 1815, 1816, 1817, 1818, 1819,\n",
              "       1820, 1821, 1822, 1823, 1824, 1825, 1826, 1827, 1828, 1829, 1830,\n",
              "       1831, 1832, 1833, 1834, 1835, 1836, 1837, 1838, 1839, 1840, 1841,\n",
              "       1842, 1843, 1844, 1845, 1846, 1847, 1848, 1849])"
            ]
          },
          "metadata": {},
          "execution_count": 71
        }
      ]
    },
    {
      "cell_type": "markdown",
      "source": [
        "* In this case .unique() gives us all the years the data spans over."
      ],
      "metadata": {
        "id": "bCMJsbh46l6Z"
      }
    },
    {
      "cell_type": "markdown",
      "source": [
        "## Analysis of top emissions in 2020"
      ],
      "metadata": {
        "id": "GmVvf18573HS"
      }
    },
    {
      "cell_type": "markdown",
      "metadata": {
        "id": "2kwe790ATm0S"
      },
      "source": [
        "##### $\\rightarrow$ Find the top 10 emitters of total CO$_2$ in 2020.\n",
        "\n"
      ]
    },
    {
      "cell_type": "markdown",
      "source": [
        "##### Solution"
      ],
      "metadata": {
        "id": "aCS-tOXPZC4W"
      }
    },
    {
      "cell_type": "markdown",
      "source": [
        "* Using the sort function to sort the values under the CO₂ collumn will make it so that the numbers are presented in decending order. Further, by using the ['year'] == 2020 we are able narrow our data to just the year 2020."
      ],
      "metadata": {
        "id": "Ci91w4Ya7D9o"
      }
    },
    {
      "cell_type": "code",
      "source": [
        "df[df['year'] == 2020].sort_values(by = 'co2', ascending = False).head(10)"
      ],
      "metadata": {
        "colab": {
          "base_uri": "https://localhost:8080/",
          "height": 508
        },
        "id": "1lrd03BU06T9",
        "outputId": "7cd038c4-c856-46de-dac7-fd6a04b174e6"
      },
      "execution_count": 72,
      "outputs": [
        {
          "output_type": "execute_result",
          "data": {
            "text/plain": [
              "             country  year iso_code    population  gdp  cement_co2  \\\n",
              "8989           China  2020      CHN  1.424930e+09  NaN     858.233   \n",
              "44221  United States  2020      USA  3.359420e+08  NaN      40.688   \n",
              "20136          India  2020      IND  1.396387e+09  NaN     122.908   \n",
              "35053         Russia  2020      RUS  1.456173e+08  NaN      20.581   \n",
              "21756          Japan  2020      JPN  1.252448e+08  NaN      24.490   \n",
              "20552           Iran  2020      IRN  8.729019e+07  NaN      23.855   \n",
              "36664   Saudi Arabia  2020      SAU  3.599711e+07  NaN      25.593   \n",
              "16794        Germany  2020      DEU  8.332899e+07  NaN      13.357   \n",
              "20308      Indonesia  2020      IDN  2.718580e+08  NaN      28.203   \n",
              "39259    South Korea  2020      KOR  5.184469e+07  NaN      22.866   \n",
              "\n",
              "       cement_co2_per_capita        co2  co2_growth_abs  co2_growth_prct  ...  \\\n",
              "8989                   0.602  10956.213         215.217            2.004  ...   \n",
              "44221                  0.121   4715.691        -543.453          -10.333  ...   \n",
              "20136                  0.088   2445.012        -181.447           -6.908  ...   \n",
              "35053                  0.141   1624.221         -68.142           -4.026  ...   \n",
              "21756                  0.196   1042.224         -63.791           -5.768  ...   \n",
              "20552                  0.273    729.978          27.020            3.844  ...   \n",
              "36664                  0.711    661.193           4.711            0.718  ...   \n",
              "16794                  0.160    639.381         -67.769           -9.583  ...   \n",
              "20308                  0.104    609.786         -49.650           -7.529  ...   \n",
              "39259                  0.441    597.634         -48.468           -7.502  ...   \n",
              "\n",
              "       share_global_cumulative_other_co2  share_global_flaring_co2  \\\n",
              "8989                              50.362                     1.256   \n",
              "44221                             14.933                    16.606   \n",
              "20136                                NaN                     0.688   \n",
              "35053                              5.754                    14.456   \n",
              "21756                              3.107                     0.085   \n",
              "20552                                NaN                     6.115   \n",
              "36664                                NaN                     1.044   \n",
              "16794                              3.054                     0.445   \n",
              "20308                                NaN                     0.865   \n",
              "39259                              2.155                     0.000   \n",
              "\n",
              "       share_global_gas_co2  share_global_luc_co2  share_global_oil_co2  \\\n",
              "8989                  9.103                 7.270                14.544   \n",
              "44221                21.885                 2.582                18.311   \n",
              "20136                 1.689                 2.680                 5.393   \n",
              "35053                10.333                10.591                 3.403   \n",
              "21756                 2.946                 0.038                 3.466   \n",
              "20552                 6.005                -0.576                 1.999   \n",
              "36664                 3.445                 0.052                 3.315   \n",
              "16794                 2.218                -0.174                 2.246   \n",
              "20308                 0.992                25.370                 1.810   \n",
              "39259                 1.544                -0.156                 1.475   \n",
              "\n",
              "       share_global_other_co2  total_ghg  total_ghg_excluding_lucf  trade_co2  \\\n",
              "8989                   57.893        NaN                       NaN   -922.811   \n",
              "44221                   8.549        NaN                       NaN    481.706   \n",
              "20136                     NaN        NaN                       NaN   -168.131   \n",
              "35053                   5.517        NaN                       NaN   -264.073   \n",
              "21756                   2.551        NaN                       NaN    144.917   \n",
              "20552                     NaN        NaN                       NaN    -71.532   \n",
              "36664                     NaN        NaN                       NaN     -3.249   \n",
              "16794                   2.646        NaN                       NaN    130.111   \n",
              "20308                     NaN        NaN                       NaN     14.441   \n",
              "39259                   3.437        NaN                       NaN     61.863   \n",
              "\n",
              "       trade_co2_share  \n",
              "8989            -8.423  \n",
              "44221           10.215  \n",
              "20136           -6.877  \n",
              "35053          -16.258  \n",
              "21756           13.905  \n",
              "20552           -9.799  \n",
              "36664           -0.491  \n",
              "16794           20.350  \n",
              "20308            2.368  \n",
              "39259           10.351  \n",
              "\n",
              "[10 rows x 74 columns]"
            ],
            "text/html": [
              "\n",
              "  <div id=\"df-d9ba18ef-5202-4739-a021-b0be8f850654\">\n",
              "    <div class=\"colab-df-container\">\n",
              "      <div>\n",
              "<style scoped>\n",
              "    .dataframe tbody tr th:only-of-type {\n",
              "        vertical-align: middle;\n",
              "    }\n",
              "\n",
              "    .dataframe tbody tr th {\n",
              "        vertical-align: top;\n",
              "    }\n",
              "\n",
              "    .dataframe thead th {\n",
              "        text-align: right;\n",
              "    }\n",
              "</style>\n",
              "<table border=\"1\" class=\"dataframe\">\n",
              "  <thead>\n",
              "    <tr style=\"text-align: right;\">\n",
              "      <th></th>\n",
              "      <th>country</th>\n",
              "      <th>year</th>\n",
              "      <th>iso_code</th>\n",
              "      <th>population</th>\n",
              "      <th>gdp</th>\n",
              "      <th>cement_co2</th>\n",
              "      <th>cement_co2_per_capita</th>\n",
              "      <th>co2</th>\n",
              "      <th>co2_growth_abs</th>\n",
              "      <th>co2_growth_prct</th>\n",
              "      <th>...</th>\n",
              "      <th>share_global_cumulative_other_co2</th>\n",
              "      <th>share_global_flaring_co2</th>\n",
              "      <th>share_global_gas_co2</th>\n",
              "      <th>share_global_luc_co2</th>\n",
              "      <th>share_global_oil_co2</th>\n",
              "      <th>share_global_other_co2</th>\n",
              "      <th>total_ghg</th>\n",
              "      <th>total_ghg_excluding_lucf</th>\n",
              "      <th>trade_co2</th>\n",
              "      <th>trade_co2_share</th>\n",
              "    </tr>\n",
              "  </thead>\n",
              "  <tbody>\n",
              "    <tr>\n",
              "      <th>8989</th>\n",
              "      <td>China</td>\n",
              "      <td>2020</td>\n",
              "      <td>CHN</td>\n",
              "      <td>1.424930e+09</td>\n",
              "      <td>NaN</td>\n",
              "      <td>858.233</td>\n",
              "      <td>0.602</td>\n",
              "      <td>10956.213</td>\n",
              "      <td>215.217</td>\n",
              "      <td>2.004</td>\n",
              "      <td>...</td>\n",
              "      <td>50.362</td>\n",
              "      <td>1.256</td>\n",
              "      <td>9.103</td>\n",
              "      <td>7.270</td>\n",
              "      <td>14.544</td>\n",
              "      <td>57.893</td>\n",
              "      <td>NaN</td>\n",
              "      <td>NaN</td>\n",
              "      <td>-922.811</td>\n",
              "      <td>-8.423</td>\n",
              "    </tr>\n",
              "    <tr>\n",
              "      <th>44221</th>\n",
              "      <td>United States</td>\n",
              "      <td>2020</td>\n",
              "      <td>USA</td>\n",
              "      <td>3.359420e+08</td>\n",
              "      <td>NaN</td>\n",
              "      <td>40.688</td>\n",
              "      <td>0.121</td>\n",
              "      <td>4715.691</td>\n",
              "      <td>-543.453</td>\n",
              "      <td>-10.333</td>\n",
              "      <td>...</td>\n",
              "      <td>14.933</td>\n",
              "      <td>16.606</td>\n",
              "      <td>21.885</td>\n",
              "      <td>2.582</td>\n",
              "      <td>18.311</td>\n",
              "      <td>8.549</td>\n",
              "      <td>NaN</td>\n",
              "      <td>NaN</td>\n",
              "      <td>481.706</td>\n",
              "      <td>10.215</td>\n",
              "    </tr>\n",
              "    <tr>\n",
              "      <th>20136</th>\n",
              "      <td>India</td>\n",
              "      <td>2020</td>\n",
              "      <td>IND</td>\n",
              "      <td>1.396387e+09</td>\n",
              "      <td>NaN</td>\n",
              "      <td>122.908</td>\n",
              "      <td>0.088</td>\n",
              "      <td>2445.012</td>\n",
              "      <td>-181.447</td>\n",
              "      <td>-6.908</td>\n",
              "      <td>...</td>\n",
              "      <td>NaN</td>\n",
              "      <td>0.688</td>\n",
              "      <td>1.689</td>\n",
              "      <td>2.680</td>\n",
              "      <td>5.393</td>\n",
              "      <td>NaN</td>\n",
              "      <td>NaN</td>\n",
              "      <td>NaN</td>\n",
              "      <td>-168.131</td>\n",
              "      <td>-6.877</td>\n",
              "    </tr>\n",
              "    <tr>\n",
              "      <th>35053</th>\n",
              "      <td>Russia</td>\n",
              "      <td>2020</td>\n",
              "      <td>RUS</td>\n",
              "      <td>1.456173e+08</td>\n",
              "      <td>NaN</td>\n",
              "      <td>20.581</td>\n",
              "      <td>0.141</td>\n",
              "      <td>1624.221</td>\n",
              "      <td>-68.142</td>\n",
              "      <td>-4.026</td>\n",
              "      <td>...</td>\n",
              "      <td>5.754</td>\n",
              "      <td>14.456</td>\n",
              "      <td>10.333</td>\n",
              "      <td>10.591</td>\n",
              "      <td>3.403</td>\n",
              "      <td>5.517</td>\n",
              "      <td>NaN</td>\n",
              "      <td>NaN</td>\n",
              "      <td>-264.073</td>\n",
              "      <td>-16.258</td>\n",
              "    </tr>\n",
              "    <tr>\n",
              "      <th>21756</th>\n",
              "      <td>Japan</td>\n",
              "      <td>2020</td>\n",
              "      <td>JPN</td>\n",
              "      <td>1.252448e+08</td>\n",
              "      <td>NaN</td>\n",
              "      <td>24.490</td>\n",
              "      <td>0.196</td>\n",
              "      <td>1042.224</td>\n",
              "      <td>-63.791</td>\n",
              "      <td>-5.768</td>\n",
              "      <td>...</td>\n",
              "      <td>3.107</td>\n",
              "      <td>0.085</td>\n",
              "      <td>2.946</td>\n",
              "      <td>0.038</td>\n",
              "      <td>3.466</td>\n",
              "      <td>2.551</td>\n",
              "      <td>NaN</td>\n",
              "      <td>NaN</td>\n",
              "      <td>144.917</td>\n",
              "      <td>13.905</td>\n",
              "    </tr>\n",
              "    <tr>\n",
              "      <th>20552</th>\n",
              "      <td>Iran</td>\n",
              "      <td>2020</td>\n",
              "      <td>IRN</td>\n",
              "      <td>8.729019e+07</td>\n",
              "      <td>NaN</td>\n",
              "      <td>23.855</td>\n",
              "      <td>0.273</td>\n",
              "      <td>729.978</td>\n",
              "      <td>27.020</td>\n",
              "      <td>3.844</td>\n",
              "      <td>...</td>\n",
              "      <td>NaN</td>\n",
              "      <td>6.115</td>\n",
              "      <td>6.005</td>\n",
              "      <td>-0.576</td>\n",
              "      <td>1.999</td>\n",
              "      <td>NaN</td>\n",
              "      <td>NaN</td>\n",
              "      <td>NaN</td>\n",
              "      <td>-71.532</td>\n",
              "      <td>-9.799</td>\n",
              "    </tr>\n",
              "    <tr>\n",
              "      <th>36664</th>\n",
              "      <td>Saudi Arabia</td>\n",
              "      <td>2020</td>\n",
              "      <td>SAU</td>\n",
              "      <td>3.599711e+07</td>\n",
              "      <td>NaN</td>\n",
              "      <td>25.593</td>\n",
              "      <td>0.711</td>\n",
              "      <td>661.193</td>\n",
              "      <td>4.711</td>\n",
              "      <td>0.718</td>\n",
              "      <td>...</td>\n",
              "      <td>NaN</td>\n",
              "      <td>1.044</td>\n",
              "      <td>3.445</td>\n",
              "      <td>0.052</td>\n",
              "      <td>3.315</td>\n",
              "      <td>NaN</td>\n",
              "      <td>NaN</td>\n",
              "      <td>NaN</td>\n",
              "      <td>-3.249</td>\n",
              "      <td>-0.491</td>\n",
              "    </tr>\n",
              "    <tr>\n",
              "      <th>16794</th>\n",
              "      <td>Germany</td>\n",
              "      <td>2020</td>\n",
              "      <td>DEU</td>\n",
              "      <td>8.332899e+07</td>\n",
              "      <td>NaN</td>\n",
              "      <td>13.357</td>\n",
              "      <td>0.160</td>\n",
              "      <td>639.381</td>\n",
              "      <td>-67.769</td>\n",
              "      <td>-9.583</td>\n",
              "      <td>...</td>\n",
              "      <td>3.054</td>\n",
              "      <td>0.445</td>\n",
              "      <td>2.218</td>\n",
              "      <td>-0.174</td>\n",
              "      <td>2.246</td>\n",
              "      <td>2.646</td>\n",
              "      <td>NaN</td>\n",
              "      <td>NaN</td>\n",
              "      <td>130.111</td>\n",
              "      <td>20.350</td>\n",
              "    </tr>\n",
              "    <tr>\n",
              "      <th>20308</th>\n",
              "      <td>Indonesia</td>\n",
              "      <td>2020</td>\n",
              "      <td>IDN</td>\n",
              "      <td>2.718580e+08</td>\n",
              "      <td>NaN</td>\n",
              "      <td>28.203</td>\n",
              "      <td>0.104</td>\n",
              "      <td>609.786</td>\n",
              "      <td>-49.650</td>\n",
              "      <td>-7.529</td>\n",
              "      <td>...</td>\n",
              "      <td>NaN</td>\n",
              "      <td>0.865</td>\n",
              "      <td>0.992</td>\n",
              "      <td>25.370</td>\n",
              "      <td>1.810</td>\n",
              "      <td>NaN</td>\n",
              "      <td>NaN</td>\n",
              "      <td>NaN</td>\n",
              "      <td>14.441</td>\n",
              "      <td>2.368</td>\n",
              "    </tr>\n",
              "    <tr>\n",
              "      <th>39259</th>\n",
              "      <td>South Korea</td>\n",
              "      <td>2020</td>\n",
              "      <td>KOR</td>\n",
              "      <td>5.184469e+07</td>\n",
              "      <td>NaN</td>\n",
              "      <td>22.866</td>\n",
              "      <td>0.441</td>\n",
              "      <td>597.634</td>\n",
              "      <td>-48.468</td>\n",
              "      <td>-7.502</td>\n",
              "      <td>...</td>\n",
              "      <td>2.155</td>\n",
              "      <td>0.000</td>\n",
              "      <td>1.544</td>\n",
              "      <td>-0.156</td>\n",
              "      <td>1.475</td>\n",
              "      <td>3.437</td>\n",
              "      <td>NaN</td>\n",
              "      <td>NaN</td>\n",
              "      <td>61.863</td>\n",
              "      <td>10.351</td>\n",
              "    </tr>\n",
              "  </tbody>\n",
              "</table>\n",
              "<p>10 rows × 74 columns</p>\n",
              "</div>\n",
              "      <button class=\"colab-df-convert\" onclick=\"convertToInteractive('df-d9ba18ef-5202-4739-a021-b0be8f850654')\"\n",
              "              title=\"Convert this dataframe to an interactive table.\"\n",
              "              style=\"display:none;\">\n",
              "        \n",
              "  <svg xmlns=\"http://www.w3.org/2000/svg\" height=\"24px\"viewBox=\"0 0 24 24\"\n",
              "       width=\"24px\">\n",
              "    <path d=\"M0 0h24v24H0V0z\" fill=\"none\"/>\n",
              "    <path d=\"M18.56 5.44l.94 2.06.94-2.06 2.06-.94-2.06-.94-.94-2.06-.94 2.06-2.06.94zm-11 1L8.5 8.5l.94-2.06 2.06-.94-2.06-.94L8.5 2.5l-.94 2.06-2.06.94zm10 10l.94 2.06.94-2.06 2.06-.94-2.06-.94-.94-2.06-.94 2.06-2.06.94z\"/><path d=\"M17.41 7.96l-1.37-1.37c-.4-.4-.92-.59-1.43-.59-.52 0-1.04.2-1.43.59L10.3 9.45l-7.72 7.72c-.78.78-.78 2.05 0 2.83L4 21.41c.39.39.9.59 1.41.59.51 0 1.02-.2 1.41-.59l7.78-7.78 2.81-2.81c.8-.78.8-2.07 0-2.86zM5.41 20L4 18.59l7.72-7.72 1.47 1.35L5.41 20z\"/>\n",
              "  </svg>\n",
              "      </button>\n",
              "      \n",
              "  <style>\n",
              "    .colab-df-container {\n",
              "      display:flex;\n",
              "      flex-wrap:wrap;\n",
              "      gap: 12px;\n",
              "    }\n",
              "\n",
              "    .colab-df-convert {\n",
              "      background-color: #E8F0FE;\n",
              "      border: none;\n",
              "      border-radius: 50%;\n",
              "      cursor: pointer;\n",
              "      display: none;\n",
              "      fill: #1967D2;\n",
              "      height: 32px;\n",
              "      padding: 0 0 0 0;\n",
              "      width: 32px;\n",
              "    }\n",
              "\n",
              "    .colab-df-convert:hover {\n",
              "      background-color: #E2EBFA;\n",
              "      box-shadow: 0px 1px 2px rgba(60, 64, 67, 0.3), 0px 1px 3px 1px rgba(60, 64, 67, 0.15);\n",
              "      fill: #174EA6;\n",
              "    }\n",
              "\n",
              "    [theme=dark] .colab-df-convert {\n",
              "      background-color: #3B4455;\n",
              "      fill: #D2E3FC;\n",
              "    }\n",
              "\n",
              "    [theme=dark] .colab-df-convert:hover {\n",
              "      background-color: #434B5C;\n",
              "      box-shadow: 0px 1px 3px 1px rgba(0, 0, 0, 0.15);\n",
              "      filter: drop-shadow(0px 1px 2px rgba(0, 0, 0, 0.3));\n",
              "      fill: #FFFFFF;\n",
              "    }\n",
              "  </style>\n",
              "\n",
              "      <script>\n",
              "        const buttonEl =\n",
              "          document.querySelector('#df-d9ba18ef-5202-4739-a021-b0be8f850654 button.colab-df-convert');\n",
              "        buttonEl.style.display =\n",
              "          google.colab.kernel.accessAllowed ? 'block' : 'none';\n",
              "\n",
              "        async function convertToInteractive(key) {\n",
              "          const element = document.querySelector('#df-d9ba18ef-5202-4739-a021-b0be8f850654');\n",
              "          const dataTable =\n",
              "            await google.colab.kernel.invokeFunction('convertToInteractive',\n",
              "                                                     [key], {});\n",
              "          if (!dataTable) return;\n",
              "\n",
              "          const docLinkHtml = 'Like what you see? Visit the ' +\n",
              "            '<a target=\"_blank\" href=https://colab.research.google.com/notebooks/data_table.ipynb>data table notebook</a>'\n",
              "            + ' to learn more about interactive tables.';\n",
              "          element.innerHTML = '';\n",
              "          dataTable['output_type'] = 'display_data';\n",
              "          await google.colab.output.renderOutput(dataTable, element);\n",
              "          const docLink = document.createElement('div');\n",
              "          docLink.innerHTML = docLinkHtml;\n",
              "          element.appendChild(docLink);\n",
              "        }\n",
              "      </script>\n",
              "    </div>\n",
              "  </div>\n",
              "  "
            ]
          },
          "metadata": {},
          "execution_count": 72
        }
      ]
    },
    {
      "cell_type": "markdown",
      "source": [
        "* This gives us a table which presents the top 10 CO₂ emitters."
      ],
      "metadata": {
        "id": "NTIAKE2PL75-"
      }
    },
    {
      "cell_type": "markdown",
      "source": [
        "##### $\\rightarrow$ Make a histogram of total CO$_2$ emissions in 2020. Make the plot on a density scale."
      ],
      "metadata": {
        "id": "Efky-9yTe3lG"
      }
    },
    {
      "cell_type": "markdown",
      "source": [
        "* Using the Seaborn library we can use the .histplot function to create a basic histogram. We can then use matplotlib to refine our histogram and add elements such as axis labels and graph titles. To make this plot a density plot, we set stat = 'density'."
      ],
      "metadata": {
        "id": "Oj5W0e6n8vze"
      }
    },
    {
      "cell_type": "code",
      "source": [
        "plt.figure(figsize = (8,6))\n",
        "\n",
        "sns.histplot(data = df[df['year'] == 2020], x = 'co2', \n",
        "             bins = np.r_[np.linspace(0, 5, 5), 18], color = 'dodgerblue', alpha = 0.7, stat = 'density')\n",
        "plt.title('Total CO₂ Emissions in 2020 (Density)')\n",
        "plt.ylabel('Density',fontsize = 13)\n",
        "plt.xlabel('CO₂ Emissions (Mt)',fontsize = 13)\n",
        "\n",
        "plt.tick_params(labelsize = 13);"
      ],
      "metadata": {
        "colab": {
          "base_uri": "https://localhost:8080/",
          "height": 572
        },
        "id": "96gUnPmd6MMC",
        "outputId": "72d0aea9-4be5-4771-8b1e-3307907d77a5"
      },
      "execution_count": 73,
      "outputs": [
        {
          "output_type": "display_data",
          "data": {
            "text/plain": [
              "<Figure size 800x600 with 1 Axes>"
            ],
            "image/png": "[encoded data removed]"
          },
          "metadata": {}
        }
      ]
    },
    {
      "cell_type": "markdown",
      "source": [
        "* This code prints out the histograms presented above."
      ],
      "metadata": {
        "id": "2KU8yvV8MILr"
      }
    },
    {
      "cell_type": "markdown",
      "source": [
        "##### Solution"
      ],
      "metadata": {
        "id": "8A_SQ6jblun4"
      }
    },
    {
      "cell_type": "markdown",
      "source": [
        "##### $\\rightarrow$ Make a boxplot of total CO$_2$ emissions in 2020. Add a strip plot on top of the boxplot."
      ],
      "metadata": {
        "id": "celYP5XTeWqF"
      }
    },
    {
      "cell_type": "markdown",
      "source": [
        "* Using the Seaborn library we can use the .boxplot and .stripplot functions to create a basic boxplot and stripplot based on CO₂ emission data from 2020. We can then use matplotlib to refine our histogram and add elements such as axis labels and graph titles. "
      ],
      "metadata": {
        "id": "b-Z8Ytof9q-K"
      }
    },
    {
      "cell_type": "code",
      "source": [
        "plt.figure(figsize = (15,5))\n",
        "\n",
        "sns.boxplot(data = df[df['year'] == 2020], x = 'co2', color = 'dodgerblue', width = 0.5, fliersize = 0)\n",
        "\n",
        "sns.stripplot(data = df[df['year'] == 2020], x = 'co2', color = 'orange', size = 6, alpha = 0.6)\n",
        "\n",
        "plt.title('Total CO₂ Emissions in 2020', fontsize = 15)\n",
        "plt.xlabel('CO₂ Emissions (Mt)', fontsize = 15)\n",
        "\n",
        "plt.tick_params(labelsize = 15);\n",
        "plt.xlim(0,2000)"
      ],
      "metadata": {
        "colab": {
          "base_uri": "https://localhost:8080/",
          "height": 519
        },
        "id": "phERpHnb6bv8",
        "outputId": "e036aee9-6143-45d0-b29b-95a05fe14686"
      },
      "execution_count": 74,
      "outputs": [
        {
          "output_type": "execute_result",
          "data": {
            "text/plain": [
              "(0.0, 2000.0)"
            ]
          },
          "metadata": {},
          "execution_count": 74
        },
        {
          "output_type": "display_data",
          "data": {
            "text/plain": [
              "<Figure size 1500x500 with 1 Axes>"
            ],
            "image/png": "[encoded data removed]"
          },
          "metadata": {}
        }
      ]
    },
    {
      "cell_type": "markdown",
      "source": [
        "* Doing so produces the graph we see above."
      ],
      "metadata": {
        "id": "75Tjcqx1MRGQ"
      }
    },
    {
      "cell_type": "markdown",
      "source": [
        "##### Solution"
      ],
      "metadata": {
        "id": "hIVTfC9AlvOg"
      }
    },
    {
      "cell_type": "markdown",
      "source": [
        "##### $\\rightarrow$ Are the CO$_2$ emissions of the top 10 emitters in 2020 outliers in the distribution?"
      ],
      "metadata": {
        "id": "_c8wgaqjttmv"
      }
    },
    {
      "cell_type": "markdown",
      "source": [
        "##### Solution"
      ],
      "metadata": {
        "id": "su0jIszbt5GJ"
      }
    },
    {
      "cell_type": "markdown",
      "source": [
        "Based off the data above, the top 10 emitters are outliers in the distribution because they clearly lay outside of the upper extreme of the box plot. "
      ],
      "metadata": {
        "id": "grVj-FwGXVg0"
      }
    },
    {
      "cell_type": "markdown",
      "source": [
        "## Emission trend over time"
      ],
      "metadata": {
        "id": "O54iekf42lUR"
      }
    },
    {
      "cell_type": "markdown",
      "source": [
        "##### $\\rightarrow$ Is the data set missing any CO$_2$ emission values for the top 10 emitters in 2020 over the years 1971 to 2020?"
      ],
      "metadata": {
        "id": "TCxt51aq2q2a"
      }
    },
    {
      "cell_type": "markdown",
      "source": [
        "* The codes below will first create a new data frame. The second code will use this new dataframe to print out a table of true and false statements. "
      ],
      "metadata": {
        "id": "7jCrQNl3NgqZ"
      }
    },
    {
      "cell_type": "code",
      "source": [
        "df_top = df[df['country'].isin(['China', 'United States', 'India', 'Russia', 'Japan', 'Iran', 'Saudi Arabia', 'Germany', 'Indonesia', 'South Korea'])]"
      ],
      "metadata": {
        "id": "G31DM8bWhoN6"
      },
      "execution_count": 75,
      "outputs": []
    },
    {
      "cell_type": "code",
      "source": [
        "df_top[(df['year'] >= 1970) | (df['year'] <= 2020)].isna()"
      ],
      "metadata": {
        "colab": {
          "base_uri": "https://localhost:8080/",
          "height": 523
        },
        "id": "GLFntq1Kj5d-",
        "outputId": "a41cb5e2-3fe1-4f07-8552-829d15c1f4a8"
      },
      "execution_count": 76,
      "outputs": [
        {
          "output_type": "stream",
          "name": "stderr",
          "text": [
            "<ipython-input-76-18ed2f42eef2>:1: UserWarning: Boolean Series key will be reindexed to match DataFrame index.\n",
            "  df_top[(df['year'] >= 1970) | (df['year'] <= 2020)].isna()\n"
          ]
        },
        {
          "output_type": "execute_result",
          "data": {
            "text/plain": [
              "       country   year  iso_code  population    gdp  cement_co2  \\\n",
              "8819     False  False     False       False  False        True   \n",
              "8820     False  False     False       False   True        True   \n",
              "8821     False  False     False       False   True        True   \n",
              "8822     False  False     False       False   True        True   \n",
              "8823     False  False     False       False   True        True   \n",
              "...        ...    ...       ...         ...    ...         ...   \n",
              "44218    False  False     False       False  False       False   \n",
              "44219    False  False     False       False  False       False   \n",
              "44220    False  False     False       False   True       False   \n",
              "44221    False  False     False       False   True       False   \n",
              "44222    False  False     False       False   True       False   \n",
              "\n",
              "       cement_co2_per_capita    co2  co2_growth_abs  co2_growth_prct  ...  \\\n",
              "8819                    True   True            True             True  ...   \n",
              "8820                    True   True            True             True  ...   \n",
              "8821                    True   True            True             True  ...   \n",
              "8822                    True   True            True             True  ...   \n",
              "8823                    True   True            True             True  ...   \n",
              "...                      ...    ...             ...              ...  ...   \n",
              "44218                  False  False           False            False  ...   \n",
              "44219                  False  False           False            False  ...   \n",
              "44220                  False  False           False            False  ...   \n",
              "44221                  False  False           False            False  ...   \n",
              "44222                  False  False           False            False  ...   \n",
              "\n",
              "       share_global_cumulative_other_co2  share_global_flaring_co2  \\\n",
              "8819                                True                      True   \n",
              "8820                                True                      True   \n",
              "8821                                True                      True   \n",
              "8822                                True                      True   \n",
              "8823                                True                      True   \n",
              "...                                  ...                       ...   \n",
              "44218                              False                     False   \n",
              "44219                              False                     False   \n",
              "44220                              False                     False   \n",
              "44221                              False                     False   \n",
              "44222                              False                     False   \n",
              "\n",
              "       share_global_gas_co2  share_global_luc_co2  share_global_oil_co2  \\\n",
              "8819                   True                 False                  True   \n",
              "8820                   True                 False                  True   \n",
              "8821                   True                 False                  True   \n",
              "8822                   True                 False                  True   \n",
              "8823                   True                 False                  True   \n",
              "...                     ...                   ...                   ...   \n",
              "44218                 False                 False                 False   \n",
              "44219                 False                 False                 False   \n",
              "44220                 False                 False                 False   \n",
              "44221                 False                 False                 False   \n",
              "44222                 False                 False                 False   \n",
              "\n",
              "       share_global_other_co2  total_ghg  total_ghg_excluding_lucf  trade_co2  \\\n",
              "8819                     True       True                      True       True   \n",
              "8820                     True       True                      True       True   \n",
              "8821                     True       True                      True       True   \n",
              "8822                     True       True                      True       True   \n",
              "8823                     True       True                      True       True   \n",
              "...                       ...        ...                       ...        ...   \n",
              "44218                   False      False                     False      False   \n",
              "44219                   False      False                     False      False   \n",
              "44220                   False      False                     False      False   \n",
              "44221                   False       True                      True      False   \n",
              "44222                   False       True                      True       True   \n",
              "\n",
              "       trade_co2_share  \n",
              "8819              True  \n",
              "8820              True  \n",
              "8821              True  \n",
              "8822              True  \n",
              "8823              True  \n",
              "...                ...  \n",
              "44218            False  \n",
              "44219            False  \n",
              "44220            False  \n",
              "44221            False  \n",
              "44222             True  \n",
              "\n",
              "[1832 rows x 74 columns]"
            ],
            "text/html": [
              "\n",
              "  <div id=\"df-c14ebade-2d65-429a-8d72-d7c35b271573\">\n",
              "    <div class=\"colab-df-container\">\n",
              "      <div>\n",
              "<style scoped>\n",
              "    .dataframe tbody tr th:only-of-type {\n",
              "        vertical-align: middle;\n",
              "    }\n",
              "\n",
              "    .dataframe tbody tr th {\n",
              "        vertical-align: top;\n",
              "    }\n",
              "\n",
              "    .dataframe thead th {\n",
              "        text-align: right;\n",
              "    }\n",
              "</style>\n",
              "<table border=\"1\" class=\"dataframe\">\n",
              "  <thead>\n",
              "    <tr style=\"text-align: right;\">\n",
              "      <th></th>\n",
              "      <th>country</th>\n",
              "      <th>year</th>\n",
              "      <th>iso_code</th>\n",
              "      <th>population</th>\n",
              "      <th>gdp</th>\n",
              "      <th>cement_co2</th>\n",
              "      <th>cement_co2_per_capita</th>\n",
              "      <th>co2</th>\n",
              "      <th>co2_growth_abs</th>\n",
              "      <th>co2_growth_prct</th>\n",
              "      <th>...</th>\n",
              "      <th>share_global_cumulative_other_co2</th>\n",
              "      <th>share_global_flaring_co2</th>\n",
              "      <th>share_global_gas_co2</th>\n",
              "      <th>share_global_luc_co2</th>\n",
              "      <th>share_global_oil_co2</th>\n",
              "      <th>share_global_other_co2</th>\n",
              "      <th>total_ghg</th>\n",
              "      <th>total_ghg_excluding_lucf</th>\n",
              "      <th>trade_co2</th>\n",
              "      <th>trade_co2_share</th>\n",
              "    </tr>\n",
              "  </thead>\n",
              "  <tbody>\n",
              "    <tr>\n",
              "      <th>8819</th>\n",
              "      <td>False</td>\n",
              "      <td>False</td>\n",
              "      <td>False</td>\n",
              "      <td>False</td>\n",
              "      <td>False</td>\n",
              "      <td>True</td>\n",
              "      <td>True</td>\n",
              "      <td>True</td>\n",
              "      <td>True</td>\n",
              "      <td>True</td>\n",
              "      <td>...</td>\n",
              "      <td>True</td>\n",
              "      <td>True</td>\n",
              "      <td>True</td>\n",
              "      <td>False</td>\n",
              "      <td>True</td>\n",
              "      <td>True</td>\n",
              "      <td>True</td>\n",
              "      <td>True</td>\n",
              "      <td>True</td>\n",
              "      <td>True</td>\n",
              "    </tr>\n",
              "    <tr>\n",
              "      <th>8820</th>\n",
              "      <td>False</td>\n",
              "      <td>False</td>\n",
              "      <td>False</td>\n",
              "      <td>False</td>\n",
              "      <td>True</td>\n",
              "      <td>True</td>\n",
              "      <td>True</td>\n",
              "      <td>True</td>\n",
              "      <td>True</td>\n",
              "      <td>True</td>\n",
              "      <td>...</td>\n",
              "      <td>True</td>\n",
              "      <td>True</td>\n",
              "      <td>True</td>\n",
              "      <td>False</td>\n",
              "      <td>True</td>\n",
              "      <td>True</td>\n",
              "      <td>True</td>\n",
              "      <td>True</td>\n",
              "      <td>True</td>\n",
              "      <td>True</td>\n",
              "    </tr>\n",
              "    <tr>\n",
              "      <th>8821</th>\n",
              "      <td>False</td>\n",
              "      <td>False</td>\n",
              "      <td>False</td>\n",
              "      <td>False</td>\n",
              "      <td>True</td>\n",
              "      <td>True</td>\n",
              "      <td>True</td>\n",
              "      <td>True</td>\n",
              "      <td>True</td>\n",
              "      <td>True</td>\n",
              "      <td>...</td>\n",
              "      <td>True</td>\n",
              "      <td>True</td>\n",
              "      <td>True</td>\n",
              "      <td>False</td>\n",
              "      <td>True</td>\n",
              "      <td>True</td>\n",
              "      <td>True</td>\n",
              "      <td>True</td>\n",
              "      <td>True</td>\n",
              "      <td>True</td>\n",
              "    </tr>\n",
              "    <tr>\n",
              "      <th>8822</th>\n",
              "      <td>False</td>\n",
              "      <td>False</td>\n",
              "      <td>False</td>\n",
              "      <td>False</td>\n",
              "      <td>True</td>\n",
              "      <td>True</td>\n",
              "      <td>True</td>\n",
              "      <td>True</td>\n",
              "      <td>True</td>\n",
              "      <td>True</td>\n",
              "      <td>...</td>\n",
              "      <td>True</td>\n",
              "      <td>True</td>\n",
              "      <td>True</td>\n",
              "      <td>False</td>\n",
              "      <td>True</td>\n",
              "      <td>True</td>\n",
              "      <td>True</td>\n",
              "      <td>True</td>\n",
              "      <td>True</td>\n",
              "      <td>True</td>\n",
              "    </tr>\n",
              "    <tr>\n",
              "      <th>8823</th>\n",
              "      <td>False</td>\n",
              "      <td>False</td>\n",
              "      <td>False</td>\n",
              "      <td>False</td>\n",
              "      <td>True</td>\n",
              "      <td>True</td>\n",
              "      <td>True</td>\n",
              "      <td>True</td>\n",
              "      <td>True</td>\n",
              "      <td>True</td>\n",
              "      <td>...</td>\n",
              "      <td>True</td>\n",
              "      <td>True</td>\n",
              "      <td>True</td>\n",
              "      <td>False</td>\n",
              "      <td>True</td>\n",
              "      <td>True</td>\n",
              "      <td>True</td>\n",
              "      <td>True</td>\n",
              "      <td>True</td>\n",
              "      <td>True</td>\n",
              "    </tr>\n",
              "    <tr>\n",
              "      <th>...</th>\n",
              "      <td>...</td>\n",
              "      <td>...</td>\n",
              "      <td>...</td>\n",
              "      <td>...</td>\n",
              "      <td>...</td>\n",
              "      <td>...</td>\n",
              "      <td>...</td>\n",
              "      <td>...</td>\n",
              "      <td>...</td>\n",
              "      <td>...</td>\n",
              "      <td>...</td>\n",
              "      <td>...</td>\n",
              "      <td>...</td>\n",
              "      <td>...</td>\n",
              "      <td>...</td>\n",
              "      <td>...</td>\n",
              "      <td>...</td>\n",
              "      <td>...</td>\n",
              "      <td>...</td>\n",
              "      <td>...</td>\n",
              "      <td>...</td>\n",
              "    </tr>\n",
              "    <tr>\n",
              "      <th>44218</th>\n",
              "      <td>False</td>\n",
              "      <td>False</td>\n",
              "      <td>False</td>\n",
              "      <td>False</td>\n",
              "      <td>False</td>\n",
              "      <td>False</td>\n",
              "      <td>False</td>\n",
              "      <td>False</td>\n",
              "      <td>False</td>\n",
              "      <td>False</td>\n",
              "      <td>...</td>\n",
              "      <td>False</td>\n",
              "      <td>False</td>\n",
              "      <td>False</td>\n",
              "      <td>False</td>\n",
              "      <td>False</td>\n",
              "      <td>False</td>\n",
              "      <td>False</td>\n",
              "      <td>False</td>\n",
              "      <td>False</td>\n",
              "      <td>False</td>\n",
              "    </tr>\n",
              "    <tr>\n",
              "      <th>44219</th>\n",
              "      <td>False</td>\n",
              "      <td>False</td>\n",
              "      <td>False</td>\n",
              "      <td>False</td>\n",
              "      <td>False</td>\n",
              "      <td>False</td>\n",
              "      <td>False</td>\n",
              "      <td>False</td>\n",
              "      <td>False</td>\n",
              "      <td>False</td>\n",
              "      <td>...</td>\n",
              "      <td>False</td>\n",
              "      <td>False</td>\n",
              "      <td>False</td>\n",
              "      <td>False</td>\n",
              "      <td>False</td>\n",
              "      <td>False</td>\n",
              "      <td>False</td>\n",
              "      <td>False</td>\n",
              "      <td>False</td>\n",
              "      <td>False</td>\n",
              "    </tr>\n",
              "    <tr>\n",
              "      <th>44220</th>\n",
              "      <td>False</td>\n",
              "      <td>False</td>\n",
              "      <td>False</td>\n",
              "      <td>False</td>\n",
              "      <td>True</td>\n",
              "      <td>False</td>\n",
              "      <td>False</td>\n",
              "      <td>False</td>\n",
              "      <td>False</td>\n",
              "      <td>False</td>\n",
              "      <td>...</td>\n",
              "      <td>False</td>\n",
              "      <td>False</td>\n",
              "      <td>False</td>\n",
              "      <td>False</td>\n",
              "      <td>False</td>\n",
              "      <td>False</td>\n",
              "      <td>False</td>\n",
              "      <td>False</td>\n",
              "      <td>False</td>\n",
              "      <td>False</td>\n",
              "    </tr>\n",
              "    <tr>\n",
              "      <th>44221</th>\n",
              "      <td>False</td>\n",
              "      <td>False</td>\n",
              "      <td>False</td>\n",
              "      <td>False</td>\n",
              "      <td>True</td>\n",
              "      <td>False</td>\n",
              "      <td>False</td>\n",
              "      <td>False</td>\n",
              "      <td>False</td>\n",
              "      <td>False</td>\n",
              "      <td>...</td>\n",
              "      <td>False</td>\n",
              "      <td>False</td>\n",
              "      <td>False</td>\n",
              "      <td>False</td>\n",
              "      <td>False</td>\n",
              "      <td>False</td>\n",
              "      <td>True</td>\n",
              "      <td>True</td>\n",
              "      <td>False</td>\n",
              "      <td>False</td>\n",
              "    </tr>\n",
              "    <tr>\n",
              "      <th>44222</th>\n",
              "      <td>False</td>\n",
              "      <td>False</td>\n",
              "      <td>False</td>\n",
              "      <td>False</td>\n",
              "      <td>True</td>\n",
              "      <td>False</td>\n",
              "      <td>False</td>\n",
              "      <td>False</td>\n",
              "      <td>False</td>\n",
              "      <td>False</td>\n",
              "      <td>...</td>\n",
              "      <td>False</td>\n",
              "      <td>False</td>\n",
              "      <td>False</td>\n",
              "      <td>False</td>\n",
              "      <td>False</td>\n",
              "      <td>False</td>\n",
              "      <td>True</td>\n",
              "      <td>True</td>\n",
              "      <td>True</td>\n",
              "      <td>True</td>\n",
              "    </tr>\n",
              "  </tbody>\n",
              "</table>\n",
              "<p>1832 rows × 74 columns</p>\n",
              "</div>\n",
              "      <button class=\"colab-df-convert\" onclick=\"convertToInteractive('df-c14ebade-2d65-429a-8d72-d7c35b271573')\"\n",
              "              title=\"Convert this dataframe to an interactive table.\"\n",
              "              style=\"display:none;\">\n",
              "        \n",
              "  <svg xmlns=\"http://www.w3.org/2000/svg\" height=\"24px\"viewBox=\"0 0 24 24\"\n",
              "       width=\"24px\">\n",
              "    <path d=\"M0 0h24v24H0V0z\" fill=\"none\"/>\n",
              "    <path d=\"M18.56 5.44l.94 2.06.94-2.06 2.06-.94-2.06-.94-.94-2.06-.94 2.06-2.06.94zm-11 1L8.5 8.5l.94-2.06 2.06-.94-2.06-.94L8.5 2.5l-.94 2.06-2.06.94zm10 10l.94 2.06.94-2.06 2.06-.94-2.06-.94-.94-2.06-.94 2.06-2.06.94z\"/><path d=\"M17.41 7.96l-1.37-1.37c-.4-.4-.92-.59-1.43-.59-.52 0-1.04.2-1.43.59L10.3 9.45l-7.72 7.72c-.78.78-.78 2.05 0 2.83L4 21.41c.39.39.9.59 1.41.59.51 0 1.02-.2 1.41-.59l7.78-7.78 2.81-2.81c.8-.78.8-2.07 0-2.86zM5.41 20L4 18.59l7.72-7.72 1.47 1.35L5.41 20z\"/>\n",
              "  </svg>\n",
              "      </button>\n",
              "      \n",
              "  <style>\n",
              "    .colab-df-container {\n",
              "      display:flex;\n",
              "      flex-wrap:wrap;\n",
              "      gap: 12px;\n",
              "    }\n",
              "\n",
              "    .colab-df-convert {\n",
              "      background-color: #E8F0FE;\n",
              "      border: none;\n",
              "      border-radius: 50%;\n",
              "      cursor: pointer;\n",
              "      display: none;\n",
              "      fill: #1967D2;\n",
              "      height: 32px;\n",
              "      padding: 0 0 0 0;\n",
              "      width: 32px;\n",
              "    }\n",
              "\n",
              "    .colab-df-convert:hover {\n",
              "      background-color: #E2EBFA;\n",
              "      box-shadow: 0px 1px 2px rgba(60, 64, 67, 0.3), 0px 1px 3px 1px rgba(60, 64, 67, 0.15);\n",
              "      fill: #174EA6;\n",
              "    }\n",
              "\n",
              "    [theme=dark] .colab-df-convert {\n",
              "      background-color: #3B4455;\n",
              "      fill: #D2E3FC;\n",
              "    }\n",
              "\n",
              "    [theme=dark] .colab-df-convert:hover {\n",
              "      background-color: #434B5C;\n",
              "      box-shadow: 0px 1px 3px 1px rgba(0, 0, 0, 0.15);\n",
              "      filter: drop-shadow(0px 1px 2px rgba(0, 0, 0, 0.3));\n",
              "      fill: #FFFFFF;\n",
              "    }\n",
              "  </style>\n",
              "\n",
              "      <script>\n",
              "        const buttonEl =\n",
              "          document.querySelector('#df-c14ebade-2d65-429a-8d72-d7c35b271573 button.colab-df-convert');\n",
              "        buttonEl.style.display =\n",
              "          google.colab.kernel.accessAllowed ? 'block' : 'none';\n",
              "\n",
              "        async function convertToInteractive(key) {\n",
              "          const element = document.querySelector('#df-c14ebade-2d65-429a-8d72-d7c35b271573');\n",
              "          const dataTable =\n",
              "            await google.colab.kernel.invokeFunction('convertToInteractive',\n",
              "                                                     [key], {});\n",
              "          if (!dataTable) return;\n",
              "\n",
              "          const docLinkHtml = 'Like what you see? Visit the ' +\n",
              "            '<a target=\"_blank\" href=https://colab.research.google.com/notebooks/data_table.ipynb>data table notebook</a>'\n",
              "            + ' to learn more about interactive tables.';\n",
              "          element.innerHTML = '';\n",
              "          dataTable['output_type'] = 'display_data';\n",
              "          await google.colab.output.renderOutput(dataTable, element);\n",
              "          const docLink = document.createElement('div');\n",
              "          docLink.innerHTML = docLinkHtml;\n",
              "          element.appendChild(docLink);\n",
              "        }\n",
              "      </script>\n",
              "    </div>\n",
              "  </div>\n",
              "  "
            ]
          },
          "metadata": {},
          "execution_count": 76
        }
      ]
    },
    {
      "cell_type": "markdown",
      "source": [
        "* The new dataframe now only includes the countries which are the top 10 emitters and the table shown above shows true and false statements based on whether the entry is NaN or not respectively. Further, by using (df['year'] >= 1970) | (df['year'] <= 2020) I am able to find this data in the years greater than or equal to 1970 and less than or equal to 2020"
      ],
      "metadata": {
        "id": "bgAQgBQD-Wpf"
      }
    },
    {
      "cell_type": "markdown",
      "source": [
        "##### Solution"
      ],
      "metadata": {
        "id": "kYwe4Fi42442"
      }
    },
    {
      "cell_type": "markdown",
      "source": [
        "Yes the data set is missing some co2 emission values for the top 10 emitters as shown in the table above. By showing a \"True\" value, we can confirm that there are NaN values in those specific rows."
      ],
      "metadata": {
        "id": "WMyfCQSjmgSg"
      }
    },
    {
      "cell_type": "markdown",
      "source": [
        "\n",
        "\n",
        "##### $\\rightarrow$ Plot the time plot of the total CO$_2$ emissions from 1971 to 2020 for the top 10 emitters in 2020."
      ],
      "metadata": {
        "id": "D1zXZpkHW-rt"
      }
    },
    {
      "cell_type": "markdown",
      "source": [
        "##### Solution"
      ],
      "metadata": {
        "id": "ejVOrFd73U_k"
      }
    },
    {
      "cell_type": "markdown",
      "source": [
        "* First I used the groupby function to group data by their country and year. From here I used the seaborn function .lineplot to graph CO₂ emissions by year and by country. Using matplotlib I then added in labels and adjusted the x-axis limit."
      ],
      "metadata": {
        "id": "AVZnS63Z_c73"
      }
    },
    {
      "cell_type": "code",
      "source": [
        "df_top.groupby(['country', 'year'])"
      ],
      "metadata": {
        "colab": {
          "base_uri": "https://localhost:8080/"
        },
        "id": "aGSU3cnVtODy",
        "outputId": "b5fa04aa-f75a-4739-f39f-8b7736149d50"
      },
      "execution_count": 77,
      "outputs": [
        {
          "output_type": "execute_result",
          "data": {
            "text/plain": [
              "<pandas.core.groupby.generic.DataFrameGroupBy object at 0x7feff429cb50>"
            ]
          },
          "metadata": {},
          "execution_count": 77
        }
      ]
    },
    {
      "cell_type": "code",
      "source": [
        "sns.lineplot(data=df_top[df['country'].isin(df_top['country'])],\n",
        "             x='year',\n",
        "             y='co2',\n",
        "             hue='country')\n",
        "plt.title('Time Plot of Total CO₂ Emissions for Top 10 Emitters (1971-2020)')\n",
        "plt.xlim(1971, 2020)\n",
        "plt.xlabel('Year', fontsize = 13)\n",
        "plt.ylabel('CO₂ Emissions(Mt)', fontsize = 13)\n"
      ],
      "metadata": {
        "colab": {
          "base_uri": "https://localhost:8080/",
          "height": 530
        },
        "id": "IkeQRBB9p8QX",
        "outputId": "085990dc-a456-475c-9879-15354b6964b1"
      },
      "execution_count": 78,
      "outputs": [
        {
          "output_type": "stream",
          "name": "stderr",
          "text": [
            "<ipython-input-78-1c8bc00d0a6c>:1: UserWarning: Boolean Series key will be reindexed to match DataFrame index.\n",
            "  sns.lineplot(data=df_top[df['country'].isin(df_top['country'])],\n"
          ]
        },
        {
          "output_type": "execute_result",
          "data": {
            "text/plain": [
              "Text(0, 0.5, 'CO₂ Emissions(Mt)')"
            ]
          },
          "metadata": {},
          "execution_count": 78
        },
        {
          "output_type": "display_data",
          "data": {
            "text/plain": [
              "<Figure size 640x480 with 1 Axes>"
            ],
            "image/png": "[encoded data removed]"
          },
          "metadata": {}
        }
      ]
    },
    {
      "cell_type": "markdown",
      "source": [
        "* The code explained above will result in the time plot shown above."
      ],
      "metadata": {
        "id": "gZ46tQmEOQII"
      }
    },
    {
      "cell_type": "markdown",
      "source": [
        "##### $\\rightarrow$  Again, plot the time plot of the total CO$_2$ emissions from 1971 to 2020 for the top 10 emitters in 2020, but now also include a plot of the mean total CO$_2$ emissions over all countries on the same plot."
      ],
      "metadata": {
        "id": "wUbmtc5PYpqF"
      }
    },
    {
      "cell_type": "markdown",
      "source": [
        "##### Solution"
      ],
      "metadata": {
        "id": "0a4JaJuZ3XrK"
      }
    },
    {
      "cell_type": "markdown",
      "source": [
        "* I used the same code explained above to reproduce the original time plot for the CO₂ emissions of the top 10 emitters, but this time added in another line plot that graphed the total mean over the years for all countries in our data set. I did so by graphing a new dataframe that grouped year and CO₂ data together."
      ],
      "metadata": {
        "id": "VPJN0v7DGyc0"
      }
    },
    {
      "cell_type": "code",
      "source": [
        "sns.lineplot(data=df_top[df['country'].isin(df_top['country'])],\n",
        "             x='year',\n",
        "             y='co2',\n",
        "             hue='country')\n",
        "\n",
        "mean_total_co2 = df.groupby('year')['co2'].mean()\n",
        "\n",
        "sns.lineplot(data=mean_total_co2, color='black', label='Mean CO2 Emissions')\n",
        "\n",
        "plt.xlim(1971, 2020)\n",
        "plt.title('Yearly CO₂ Emissions for Top 10 Emitters v.s Mean Total CO₂ Emissions')\n",
        "plt.xlabel('Year', fontsize=13)\n",
        "plt.ylabel('CO₂ Emissions (Mt)', fontsize=13)"
      ],
      "metadata": {
        "colab": {
          "base_uri": "https://localhost:8080/",
          "height": 530
        },
        "id": "OLNihPUVzJak",
        "outputId": "1fbb05e1-86ac-4c16-c5aa-1cc2bf2eef26"
      },
      "execution_count": 79,
      "outputs": [
        {
          "output_type": "stream",
          "name": "stderr",
          "text": [
            "<ipython-input-79-2a53ebb24d7b>:1: UserWarning: Boolean Series key will be reindexed to match DataFrame index.\n",
            "  sns.lineplot(data=df_top[df['country'].isin(df_top['country'])],\n"
          ]
        },
        {
          "output_type": "execute_result",
          "data": {
            "text/plain": [
              "Text(0, 0.5, 'CO₂ Emissions (Mt)')"
            ]
          },
          "metadata": {},
          "execution_count": 79
        },
        {
          "output_type": "display_data",
          "data": {
            "text/plain": [
              "<Figure size 640x480 with 1 Axes>"
            ],
            "image/png": "[encoded data removed]"
          },
          "metadata": {}
        }
      ]
    },
    {
      "cell_type": "markdown",
      "source": [
        "* The code above when executed will create the timeplot shown above."
      ],
      "metadata": {
        "id": "J-3rvVqLOWVj"
      }
    },
    {
      "cell_type": "markdown",
      "source": [
        "##### $\\rightarrow$ Given the large difference between the smallest and largest values, it can help to plot the results on a log scale. Produce the plot of the top 10 emitters and the mean with CO$_2$ emissions on a log scale."
      ],
      "metadata": {
        "id": "SPzueyq4cyXK"
      }
    },
    {
      "cell_type": "markdown",
      "source": [
        "##### Solution"
      ],
      "metadata": {
        "id": "B4MDs4FZlyLg"
      }
    },
    {
      "cell_type": "markdown",
      "source": [
        "* The code here is very similar to the code which I explained above, but this time I set the y-axis scale to 'log' which allowed me to plot my line plot results on a log scale. "
      ],
      "metadata": {
        "id": "acENUvx7IJ2i"
      }
    },
    {
      "cell_type": "code",
      "source": [
        "sns.lineplot(data=df_top[df['country'].isin(df_top['country'])],\n",
        "             x='year',\n",
        "             y='co2',\n",
        "             hue='country')\n",
        "\n",
        "mean_total_co2 = df.groupby('year')['co2'].mean()\n",
        "\n",
        "sns.lineplot(data=mean_total_co2, color='black', label='Mean CO₂ Emissions')\n",
        "plt.title('Yearly CO₂ Emissions (log scale)')\n",
        "plt.yscale('log')\n",
        "plt.xlabel('Year', fontsize=13)\n",
        "plt.ylabel('CO₂ Emissions (kilotons)', fontsize=13)"
      ],
      "metadata": {
        "colab": {
          "base_uri": "https://localhost:8080/",
          "height": 530
        },
        "id": "FlQ3rPGQtW8q",
        "outputId": "076ba73c-a04b-47b7-afc3-e43d2f4faa08"
      },
      "execution_count": 80,
      "outputs": [
        {
          "output_type": "stream",
          "name": "stderr",
          "text": [
            "<ipython-input-80-a4f61b211d20>:1: UserWarning: Boolean Series key will be reindexed to match DataFrame index.\n",
            "  sns.lineplot(data=df_top[df['country'].isin(df_top['country'])],\n"
          ]
        },
        {
          "output_type": "execute_result",
          "data": {
            "text/plain": [
              "Text(0, 0.5, 'CO₂ Emissions (kilotons)')"
            ]
          },
          "metadata": {},
          "execution_count": 80
        },
        {
          "output_type": "display_data",
          "data": {
            "text/plain": [
              "<Figure size 640x480 with 1 Axes>"
            ],
            "image/png": "[encoded data removed]"
          },
          "metadata": {}
        }
      ]
    },
    {
      "cell_type": "markdown",
      "source": [
        "* When this code is executed the graph above is created. Through this graph we are able to better visualize the CO₂ trends over the years."
      ],
      "metadata": {
        "id": "4_BlEoiYPOzs"
      }
    },
    {
      "cell_type": "markdown",
      "source": [
        "##### $\\rightarrow$ Comment on the trend in CO$_2$ emissions from these countries over the last 50 years."
      ],
      "metadata": {
        "id": "bnoVsmMtitYN"
      }
    },
    {
      "cell_type": "markdown",
      "source": [
        "##### Solution"
      ],
      "metadata": {
        "id": "pf0I9hgZlYvb"
      }
    },
    {
      "cell_type": "markdown",
      "source": [
        "Overall it seems that the CO₂ emissions overall are on an upward trend. Although the lines representing the top CO₂ emitters have a less clear trend, both those lines as well as the line representing the mean of CO₂ emissions for all the countries trend upward as time progresses."
      ],
      "metadata": {
        "id": "OGcLHvioywOC"
      }
    }
  ]
}