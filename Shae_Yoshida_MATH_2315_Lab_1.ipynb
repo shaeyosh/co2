{
  "nbformat": 4,
  "nbformat_minor": 0,
  "metadata": {
    "colab": {
      "provenance": [],
      "include_colab_link": true
    },
    "kernelspec": {
      "name": "python3",
      "display_name": "Python 3"
    },
    "language_info": {
      "name": "python"
    }
  },
  "cells": [
    {
      "cell_type": "markdown",
      "metadata": {
        "id": "view-in-github",
        "colab_type": "text"
      },
      "source": [
        "<a href=\"https://colab.research.google.com/github/shaeyosh/co2emissions/blob/main/Shae_Yoshida_MATH_2315_Lab_1.ipynb\" target=\"_parent\"><img src=\"https://colab.research.google.com/assets/colab-badge.svg\" alt=\"Open In Colab\"/></a>"
      ]
    },
    {
      "cell_type": "markdown",
      "source": [
        "## Imports"
      ],
      "metadata": {
        "id": "Av8gH1UmMgFv"
      }
    },
    {
      "cell_type": "code",
      "execution_count": null,
      "metadata": {
        "id": "f9-cSwbcMJc7"
      },
      "outputs": [],
      "source": [
        "# Import pandas, numpy, and matplotlib\n",
        "import pandas as pd\n",
        "import numpy as np\n",
        "import matplotlib.pyplot as plt\n",
        "\n",
        "# seaborn is a data visualization library built on matplotlib\n",
        "import seaborn as sns \n",
        "\n",
        "# set the plotting style \n",
        "sns.set_style(\"whitegrid\")\n",
        "\n",
        "# Plot missing values\n",
        "import missingno as msno"
      ]
    },
    {
      "cell_type": "markdown",
      "source": [
        "## Lab introduction"
      ],
      "metadata": {
        "id": "3600arA2CaSv"
      }
    },
    {
      "cell_type": "markdown",
      "source": [
        "Use the greenhouse gas emission data set owid-co2-data.csv from Our World in Data to describe how the emission levels of the current top 10 CO2 emitters have changed over the last 50 years (1971 - 2020). \n",
        "\n"
      ],
      "metadata": {
        "id": "nuNtt1LwCj2t"
      }
    },
    {
      "cell_type": "markdown",
      "source": [
        "## Import and set up the data set"
      ],
      "metadata": {
        "id": "hrNAfmwpMj2L"
      }
    },
    {
      "cell_type": "markdown",
      "source": [
        "##### $\\rightarrow$ Use Pandas to load the file `owid-co2-data.csv` from https://github.com/owid/co2-data as a `DataFrame`. Name the `DataFrame` `df`."
      ],
      "metadata": {
        "id": "aQxUj8ChtEGr"
      }
    },
    {
      "cell_type": "code",
      "source": [
        "df = pd.read_csv('https://raw.githubusercontent.com/shaeyosh/co2emissions/main/owid-co2-data.csv')"
      ],
      "metadata": {
        "id": "6VfU3QztFPS_"
      },
      "execution_count": 4,
      "outputs": []
    },
    {
      "cell_type": "markdown",
      "source": [
        "##### Solution"
      ],
      "metadata": {
        "id": "75igDlZQOqzQ"
      }
    },
    {
      "cell_type": "markdown",
      "source": [
        "Consult the [codebook](https://github.com/owid/co2-data/blob/master/owid-co2-codebook.csv) to see the description of each column.\n",
        "\n"
      ],
      "metadata": {
        "id": "jZAaO4glOZC1"
      }
    },
    {
      "cell_type": "markdown",
      "source": [
        "##### $\\rightarrow$ Select the rows corresponding to individual countries "
      ],
      "metadata": {
        "id": "oQvGwApO35VP"
      }
    },
    {
      "cell_type": "code",
      "source": [
        "df[['country']]"
      ],
      "metadata": {
        "colab": {
          "base_uri": "https://localhost:8080/",
          "height": 424
        },
        "id": "DiuCLk3NF9vX",
        "outputId": "22e75ec1-19ac-440d-fad1-60dc4d53296b"
      },
      "execution_count": null,
      "outputs": [
        {
          "output_type": "execute_result",
          "data": {
            "text/plain": [
              "           country\n",
              "0      Afghanistan\n",
              "1      Afghanistan\n",
              "2      Afghanistan\n",
              "3      Afghanistan\n",
              "4      Afghanistan\n",
              "...            ...\n",
              "46518     Zimbabwe\n",
              "46519     Zimbabwe\n",
              "46520     Zimbabwe\n",
              "46521     Zimbabwe\n",
              "46522     Zimbabwe\n",
              "\n",
              "[46523 rows x 1 columns]"
            ],
            "text/html": [
              "\n",
              "  <div id=\"df-bd22eb29-4ff5-4344-a611-68347e264967\">\n",
              "    <div class=\"colab-df-container\">\n",
              "      <div>\n",
              "<style scoped>\n",
              "    .dataframe tbody tr th:only-of-type {\n",
              "        vertical-align: middle;\n",
              "    }\n",
              "\n",
              "    .dataframe tbody tr th {\n",
              "        vertical-align: top;\n",
              "    }\n",
              "\n",
              "    .dataframe thead th {\n",
              "        text-align: right;\n",
              "    }\n",
              "</style>\n",
              "<table border=\"1\" class=\"dataframe\">\n",
              "  <thead>\n",
              "    <tr style=\"text-align: right;\">\n",
              "      <th></th>\n",
              "      <th>country</th>\n",
              "    </tr>\n",
              "  </thead>\n",
              "  <tbody>\n",
              "    <tr>\n",
              "      <th>0</th>\n",
              "      <td>Afghanistan</td>\n",
              "    </tr>\n",
              "    <tr>\n",
              "      <th>1</th>\n",
              "      <td>Afghanistan</td>\n",
              "    </tr>\n",
              "    <tr>\n",
              "      <th>2</th>\n",
              "      <td>Afghanistan</td>\n",
              "    </tr>\n",
              "    <tr>\n",
              "      <th>3</th>\n",
              "      <td>Afghanistan</td>\n",
              "    </tr>\n",
              "    <tr>\n",
              "      <th>4</th>\n",
              "      <td>Afghanistan</td>\n",
              "    </tr>\n",
              "    <tr>\n",
              "      <th>...</th>\n",
              "      <td>...</td>\n",
              "    </tr>\n",
              "    <tr>\n",
              "      <th>46518</th>\n",
              "      <td>Zimbabwe</td>\n",
              "    </tr>\n",
              "    <tr>\n",
              "      <th>46519</th>\n",
              "      <td>Zimbabwe</td>\n",
              "    </tr>\n",
              "    <tr>\n",
              "      <th>46520</th>\n",
              "      <td>Zimbabwe</td>\n",
              "    </tr>\n",
              "    <tr>\n",
              "      <th>46521</th>\n",
              "      <td>Zimbabwe</td>\n",
              "    </tr>\n",
              "    <tr>\n",
              "      <th>46522</th>\n",
              "      <td>Zimbabwe</td>\n",
              "    </tr>\n",
              "  </tbody>\n",
              "</table>\n",
              "<p>46523 rows × 1 columns</p>\n",
              "</div>\n",
              "      <button class=\"colab-df-convert\" onclick=\"convertToInteractive('df-bd22eb29-4ff5-4344-a611-68347e264967')\"\n",
              "              title=\"Convert this dataframe to an interactive table.\"\n",
              "              style=\"display:none;\">\n",
              "        \n",
              "  <svg xmlns=\"http://www.w3.org/2000/svg\" height=\"24px\"viewBox=\"0 0 24 24\"\n",
              "       width=\"24px\">\n",
              "    <path d=\"M0 0h24v24H0V0z\" fill=\"none\"/>\n",
              "    <path d=\"M18.56 5.44l.94 2.06.94-2.06 2.06-.94-2.06-.94-.94-2.06-.94 2.06-2.06.94zm-11 1L8.5 8.5l.94-2.06 2.06-.94-2.06-.94L8.5 2.5l-.94 2.06-2.06.94zm10 10l.94 2.06.94-2.06 2.06-.94-2.06-.94-.94-2.06-.94 2.06-2.06.94z\"/><path d=\"M17.41 7.96l-1.37-1.37c-.4-.4-.92-.59-1.43-.59-.52 0-1.04.2-1.43.59L10.3 9.45l-7.72 7.72c-.78.78-.78 2.05 0 2.83L4 21.41c.39.39.9.59 1.41.59.51 0 1.02-.2 1.41-.59l7.78-7.78 2.81-2.81c.8-.78.8-2.07 0-2.86zM5.41 20L4 18.59l7.72-7.72 1.47 1.35L5.41 20z\"/>\n",
              "  </svg>\n",
              "      </button>\n",
              "      \n",
              "  <style>\n",
              "    .colab-df-container {\n",
              "      display:flex;\n",
              "      flex-wrap:wrap;\n",
              "      gap: 12px;\n",
              "    }\n",
              "\n",
              "    .colab-df-convert {\n",
              "      background-color: #E8F0FE;\n",
              "      border: none;\n",
              "      border-radius: 50%;\n",
              "      cursor: pointer;\n",
              "      display: none;\n",
              "      fill: #1967D2;\n",
              "      height: 32px;\n",
              "      padding: 0 0 0 0;\n",
              "      width: 32px;\n",
              "    }\n",
              "\n",
              "    .colab-df-convert:hover {\n",
              "      background-color: #E2EBFA;\n",
              "      box-shadow: 0px 1px 2px rgba(60, 64, 67, 0.3), 0px 1px 3px 1px rgba(60, 64, 67, 0.15);\n",
              "      fill: #174EA6;\n",
              "    }\n",
              "\n",
              "    [theme=dark] .colab-df-convert {\n",
              "      background-color: #3B4455;\n",
              "      fill: #D2E3FC;\n",
              "    }\n",
              "\n",
              "    [theme=dark] .colab-df-convert:hover {\n",
              "      background-color: #434B5C;\n",
              "      box-shadow: 0px 1px 3px 1px rgba(0, 0, 0, 0.15);\n",
              "      filter: drop-shadow(0px 1px 2px rgba(0, 0, 0, 0.3));\n",
              "      fill: #FFFFFF;\n",
              "    }\n",
              "  </style>\n",
              "\n",
              "      <script>\n",
              "        const buttonEl =\n",
              "          document.querySelector('#df-bd22eb29-4ff5-4344-a611-68347e264967 button.colab-df-convert');\n",
              "        buttonEl.style.display =\n",
              "          google.colab.kernel.accessAllowed ? 'block' : 'none';\n",
              "\n",
              "        async function convertToInteractive(key) {\n",
              "          const element = document.querySelector('#df-bd22eb29-4ff5-4344-a611-68347e264967');\n",
              "          const dataTable =\n",
              "            await google.colab.kernel.invokeFunction('convertToInteractive',\n",
              "                                                     [key], {});\n",
              "          if (!dataTable) return;\n",
              "\n",
              "          const docLinkHtml = 'Like what you see? Visit the ' +\n",
              "            '<a target=\"_blank\" href=https://colab.research.google.com/notebooks/data_table.ipynb>data table notebook</a>'\n",
              "            + ' to learn more about interactive tables.';\n",
              "          element.innerHTML = '';\n",
              "          dataTable['output_type'] = 'display_data';\n",
              "          await google.colab.output.renderOutput(dataTable, element);\n",
              "          const docLink = document.createElement('div');\n",
              "          docLink.innerHTML = docLinkHtml;\n",
              "          element.appendChild(docLink);\n",
              "        }\n",
              "      </script>\n",
              "    </div>\n",
              "  </div>\n",
              "  "
            ]
          },
          "metadata": {},
          "execution_count": 3
        }
      ]
    },
    {
      "cell_type": "markdown",
      "source": [
        "The `country` column of the data set contains some values that are groups of countries. We will remove these observations from the data set."
      ],
      "metadata": {
        "id": "CoBCrqDQK8RF"
      }
    },
    {
      "cell_type": "code",
      "source": [
        "non_countries = ['Africa', 'Africa (GCP)', 'Asia', 'Asia (GCP)', 'Asia (excl. China and India)', 'Central America (GCP)',\n",
        "                  'EU-27', 'Europe', 'Europe (excl. EU-27)', 'European Union (27) (GCP)', 'Europe (GCP)',\n",
        "                  'Europe (excl. EU-28)', 'European Union (27)', \n",
        "                  'European Union (28)', 'French Equatorial Africa', \n",
        "                  'French Guiana', 'French Polynesia', 'French West Africa',\n",
        "                  'High-income countries', 'International transport', \n",
        "                  'Low-income countries', 'Lower-middle-income countries', 'Mayotte', 'Middle East (GCP)',\n",
        "                  'Non-OECD (GCP)',\n",
        "                  'North America',  'North America (excl. USA)', 'North America (GCP)',\n",
        "                  'Oceania (GCP)', 'OECD (GCP)', \n",
        "                  'Panama Canal Zone','South America', 'South America (GCP)', 'Upper-middle-income countries', \n",
        "                  'World']"
      ],
      "metadata": {
        "id": "eD0vOVGQkTHq"
      },
      "execution_count": null,
      "outputs": []
    },
    {
      "cell_type": "markdown",
      "source": [
        "Remove the rows corresponding to the non-countries."
      ],
      "metadata": {
        "id": "8gJuF0O9LoPY"
      }
    },
    {
      "cell_type": "markdown",
      "source": [
        "## Explore the data set"
      ],
      "metadata": {
        "id": "9_VL9S0ZL8eJ"
      }
    },
    {
      "cell_type": "markdown",
      "source": [
        "##### $\\rightarrow$ Display the head of the data frame"
      ],
      "metadata": {
        "id": "q6694yBOMD3F"
      }
    },
    {
      "cell_type": "markdown",
      "source": [
        "##### Solution"
      ],
      "metadata": {
        "id": "QwTFcX-IOpH9"
      }
    },
    {
      "cell_type": "markdown",
      "source": [
        "##### $\\rightarrow$ Use the `info` method further explore the data.\n",
        "1.  Are there any columns where the data type is obviously incorrect? For example, is there a variable that should be a number, but is coded as a string?\n",
        "2.  Do any of the columns have missing (null) values?"
      ],
      "metadata": {
        "id": "1HQFuZbmNCfO"
      }
    },
    {
      "cell_type": "markdown",
      "source": [
        "##### Solution"
      ],
      "metadata": {
        "id": "Kt-vodi7OoKB"
      }
    },
    {
      "cell_type": "markdown",
      "source": [
        "##### $\\rightarrow$ What years are present in the data set?"
      ],
      "metadata": {
        "id": "f89ETnavWcPa"
      }
    },
    {
      "cell_type": "markdown",
      "source": [
        "##### Solution"
      ],
      "metadata": {
        "id": "yUQLOAJrXGNk"
      }
    },
    {
      "cell_type": "markdown",
      "source": [
        "## Analysis of top emissions in 2020"
      ],
      "metadata": {
        "id": "GmVvf18573HS"
      }
    },
    {
      "cell_type": "markdown",
      "metadata": {
        "id": "2kwe790ATm0S"
      },
      "source": [
        "##### $\\rightarrow$ Find the top 10 emitters of total CO$_2$ in 2020.\n",
        "\n"
      ]
    },
    {
      "cell_type": "markdown",
      "source": [
        "##### Solution"
      ],
      "metadata": {
        "id": "aCS-tOXPZC4W"
      }
    },
    {
      "cell_type": "markdown",
      "source": [
        "##### $\\rightarrow$ Make a histogram of total CO$_2$ emissions in 2020. Make the plot on a density scale."
      ],
      "metadata": {
        "id": "Efky-9yTe3lG"
      }
    },
    {
      "cell_type": "markdown",
      "source": [
        "##### Solution"
      ],
      "metadata": {
        "id": "8A_SQ6jblun4"
      }
    },
    {
      "cell_type": "markdown",
      "source": [
        "##### $\\rightarrow$ Make a boxplot of total CO$_2$ emissions in 2020. Add a strip plot on top of the boxplot."
      ],
      "metadata": {
        "id": "celYP5XTeWqF"
      }
    },
    {
      "cell_type": "markdown",
      "source": [
        "##### Solution"
      ],
      "metadata": {
        "id": "hIVTfC9AlvOg"
      }
    },
    {
      "cell_type": "markdown",
      "source": [
        "##### $\\rightarrow$ Are the CO$_2$ emissions of the top 10 emitters in 2020 outliers in the distribution?"
      ],
      "metadata": {
        "id": "_c8wgaqjttmv"
      }
    },
    {
      "cell_type": "markdown",
      "source": [
        "##### Solution"
      ],
      "metadata": {
        "id": "su0jIszbt5GJ"
      }
    },
    {
      "cell_type": "markdown",
      "source": [
        "## Emission trend over time"
      ],
      "metadata": {
        "id": "O54iekf42lUR"
      }
    },
    {
      "cell_type": "markdown",
      "source": [
        "##### $\\rightarrow$ Is the data set missing any CO$_2$ emission values for the top 10 emitters in 2020 over the years 1971 to 2020?"
      ],
      "metadata": {
        "id": "TCxt51aq2q2a"
      }
    },
    {
      "cell_type": "markdown",
      "source": [
        "##### Solution"
      ],
      "metadata": {
        "id": "kYwe4Fi42442"
      }
    },
    {
      "cell_type": "markdown",
      "source": [
        "##### $\\rightarrow$ Plot the time plot of the total CO$_2$ emissions from 1971 to 2020 for the top 10 emitters in 2020."
      ],
      "metadata": {
        "id": "D1zXZpkHW-rt"
      }
    },
    {
      "cell_type": "markdown",
      "source": [
        "##### Solution"
      ],
      "metadata": {
        "id": "ejVOrFd73U_k"
      }
    },
    {
      "cell_type": "markdown",
      "source": [
        "##### $\\rightarrow$ Again, plot the time plot of the total CO$_2$ emissions from 1971 to 2020 for the top 10 emitters in 2020, but now also include a plot of the mean total CO$_2$ emissions over all countries on the same plot."
      ],
      "metadata": {
        "id": "wUbmtc5PYpqF"
      }
    },
    {
      "cell_type": "markdown",
      "source": [
        "##### Solution"
      ],
      "metadata": {
        "id": "0a4JaJuZ3XrK"
      }
    },
    {
      "cell_type": "markdown",
      "source": [
        "##### $\\rightarrow$ Given the large difference between the smallest and largest values, it can help to plot the results on a log scale. Produce the plot of the top 10 emitters and the mean with CO$_2$ emissions on a log scale."
      ],
      "metadata": {
        "id": "SPzueyq4cyXK"
      }
    },
    {
      "cell_type": "markdown",
      "source": [
        "##### Solution"
      ],
      "metadata": {
        "id": "B4MDs4FZlyLg"
      }
    },
    {
      "cell_type": "markdown",
      "source": [
        "##### $\\rightarrow$ Comment on the trend in CO$_2$ emissions from these countries over the last 50 years."
      ],
      "metadata": {
        "id": "bnoVsmMtitYN"
      }
    },
    {
      "cell_type": "markdown",
      "source": [
        "##### Solution"
      ],
      "metadata": {
        "id": "pf0I9hgZlYvb"
      }
    }
  ]
}